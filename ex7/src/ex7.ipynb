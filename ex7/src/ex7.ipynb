{
 "cells": [
  {
   "cell_type": "markdown",
   "metadata": {},
   "source": [
    "# 实验七 线性方程组的迭代解法\n",
    "\n",
    "雅可比（Jacobi）迭代法"
   ]
  },
  {
   "cell_type": "code",
   "execution_count": 85,
   "metadata": {},
   "outputs": [],
   "source": [
    "import numpy as np\n",
    "\n",
    "def jacobi_iter(A, b, x0=None, eps=1e-5, max_steps=5000, verbose=False):\n",
    "    \"\"\"雅可比（Jacobi）迭代法求解线性方程组:\n",
    "        A @ x = b\n",
    "    \n",
    "    Args:\n",
    "        A:  np_array_like, 系数矩阵\n",
    "        b:  np_array_like, 右端常数\n",
    "        x0: np_array_like, 迭代初值\n",
    "            default x0=None means using random values.\n",
    "        eps: float, 精度要求\n",
    "        max_steps: int, 最大迭代次数\n",
    "        verbose: bool, 如果计算成功，打印出结果及迭代次数\n",
    "        \n",
    "    Returns:\n",
    "        x: 方程组的解\n",
    "        \n",
    "    Raises:\n",
    "        ValueError: A 和 b 形状不符合要求\n",
    "        Expection:  达到最大迭代次数，仍不满足精度\n",
    "    \"\"\"\n",
    "    A = np.array(A)\n",
    "    b = np.array(b)\n",
    "    \n",
    "    n, m = A.shape\n",
    "    if n != m or n != len(b):\n",
    "        raise ValueError(f\"Not match: A({n, m}) and b({len(b)},)\")\n",
    "        \n",
    "    if not x0:\n",
    "        x0 = np.random.random(n)\n",
    "        \n",
    "    # A =  D - L - U\n",
    "    \n",
    "    D = np.diag(np.diag(A))\n",
    "    L = - np.tril(A, -1)\n",
    "    U = - np.triu(A, 1)\n",
    "    \n",
    "    inv_D = np.linalg.pinv(D)\n",
    "    \n",
    "    B = inv_D @ (L + U)\n",
    "    f = inv_D @ b\n",
    "    \n",
    "    x = x0\n",
    "    i = 0\n",
    "    for i in range(int(max_steps)):\n",
    "        x_prev = np.array(x)  # deep copy\n",
    "        \n",
    "        x = B @ x + f\n",
    "        \n",
    "        if np.all(np.abs(x - x_prev) <= eps):  # 达到精度要求\n",
    "            break\n",
    "    else:\n",
    "        raise Exception(f\"cannot reach eps ({eps}) after max_steps ({max_steps}). The last result: x = {x}\")\n",
    "    \n",
    "    if verbose:\n",
    "        print(f\"jacobi_iter get result x = {x} after {i} iterations.\")\n",
    "\n",
    "    return x"
   ]
  },
  {
   "cell_type": "code",
   "execution_count": 86,
   "metadata": {},
   "outputs": [
    {
     "name": "stdout",
     "output_type": "stream",
     "text": [
      "jacobi_iter get result x = [0.99999906 0.99999911 0.99999933] after 7 iterations.\n"
     ]
    },
    {
     "data": {
      "text/plain": [
       "array([0.99999906, 0.99999911, 0.99999933])"
      ]
     },
     "execution_count": 86,
     "metadata": {},
     "output_type": "execute_result"
    }
   ],
   "source": [
    "jacobi_iter([[9,-1,-1], [-1,10,-1],[-1,-1,15]], [7,8,13], verbose=True)\n",
    "# jacobi_iter([[9,-1,-1], [-1,10,-1],[-1,-1,15]], [7,8,13], x0=[99999, 99999, 99999], verbose=True)"
   ]
  },
  {
   "cell_type": "markdown",
   "metadata": {},
   "source": [
    "高斯-赛德尔迭代"
   ]
  },
  {
   "cell_type": "code",
   "execution_count": 94,
   "metadata": {},
   "outputs": [],
   "source": [
    "def gauss_seidel_iter(A, b, x0=None, eps=1e-5, max_steps=5000, verbose=False):\n",
    "    \"\"\"高斯-赛德尔迭代（Gauss–Seidel method）求解线性方程组:\n",
    "        A @ x = b\n",
    "    \n",
    "    Args:\n",
    "        A:  np_array_like, 系数矩阵\n",
    "        b:  np_array_like, 右端常数\n",
    "        x0: np_array_like, 迭代初值\n",
    "            default x0=None means using random values.\n",
    "        eps: float, 精度要求\n",
    "        max_steps: int, 最大迭代次数\n",
    "        verbose: bool, 如果计算成功，打印出结果及迭代次数\n",
    "        \n",
    "    Returns:\n",
    "        x: 方程组的解\n",
    "        \n",
    "    Raises:\n",
    "        ValueError: A 和 b 形状不符合要求\n",
    "        Expection:  达到最大迭代次数，仍不满足精度\n",
    "    \"\"\"\n",
    "    A = np.array(A)\n",
    "    b = np.array(b)\n",
    "    \n",
    "    n, m = A.shape\n",
    "    if n != m or n != len(b):\n",
    "        raise ValueError(f\"Not match: A({n, m}) and b({len(b)},)\")\n",
    "        \n",
    "    if not x0:\n",
    "        x0 = np.random.random(n)\n",
    "\n",
    "    # A =  D - L - U\n",
    "    \n",
    "    D = np.diag(np.diag(A))\n",
    "    L = - np.tril(A, -1)\n",
    "    U = - np.triu(A, 1)\n",
    "    \n",
    "    inv_DsL = np.linalg.pinv(D - L)\n",
    "    \n",
    "    B = inv_DsL @ U\n",
    "    f = inv_DsL @ b\n",
    "    \n",
    "    x = x0\n",
    "    i = 0\n",
    "    for i in range(int(max_steps)):\n",
    "        x_prev = np.array(x)  # deep copy\n",
    "        \n",
    "        inv_DsL = np.linalg.pinv(D - L)\n",
    "        x = B @ x + f\n",
    "        \n",
    "        if np.all(np.abs(x - x_prev) <= eps):  # 达到精度要求\n",
    "            break\n",
    "    else:\n",
    "        raise Exception(f\"cannot reach eps ({eps}) after max_steps ({max_steps}). The last result: x = {x}\")\n",
    "    \n",
    "    \n",
    "    if verbose:\n",
    "        print(f\"gauss_seidel_iter get result x = {x} after {i} iterations.\")\n",
    "\n",
    "    return x"
   ]
  },
  {
   "cell_type": "code",
   "execution_count": 95,
   "metadata": {},
   "outputs": [
    {
     "name": "stdout",
     "output_type": "stream",
     "text": [
      "gauss_seidel_iter get result x = [1. 1. 1.] after 10 iterations.\n"
     ]
    },
    {
     "data": {
      "text/plain": [
       "array([1., 1., 1.])"
      ]
     },
     "execution_count": 95,
     "metadata": {},
     "output_type": "execute_result"
    }
   ],
   "source": [
    "gauss_seidel_iter([[9,-1,-1], [-1,10,-1],[-1,-1,15]], [7,8,13], eps=1e-12, verbose=True)"
   ]
  },
  {
   "cell_type": "markdown",
   "metadata": {},
   "source": [
    "SOR 迭代法"
   ]
  },
  {
   "cell_type": "code",
   "execution_count": 96,
   "metadata": {},
   "outputs": [],
   "source": [
    "def sor(A, b, x0=None, w=1, eps=1e-5, max_steps=5000, verbose=False):\n",
    "    \"\"\"逐次超松驰法（Successive over-relaxation, SOR）求解线性方程组:\n",
    "        A @ x = b\n",
    "    \n",
    "    Args:\n",
    "        A:  np_array_like, 系数矩阵\n",
    "        b:  np_array_like, 右端常数\n",
    "        x0: np_array_like, 迭代初值\n",
    "            default x0=None means using random values.\n",
    "        w:  float, 松弛因子 w > 0\n",
    "            default w=1，即 Gauss–Seidel 迭代\n",
    "        eps: float, 精度要求\n",
    "        max_steps: int, 最大迭代次数\n",
    "        verbose: bool, 如果计算成功，打印出结果及迭代次数\n",
    "        \n",
    "    Returns:\n",
    "        x: 方程组的解\n",
    "        \n",
    "    Raises:\n",
    "        ValueError: w 小于等于 0\n",
    "        ValueError: A 和 b 形状不符合要求\n",
    "        Expection:  达到最大迭代次数，仍不满足精度\n",
    "    \"\"\"\n",
    "    if w <= 0:\n",
    "        raise ValueError(f\"unexpected w = {w} < 0\")\n",
    "    \n",
    "    A = np.array(A)\n",
    "    b = np.array(b)\n",
    "    \n",
    "    n, m = A.shape\n",
    "    if n != m or n != len(b):\n",
    "        raise ValueError(f\"Not match: A({n, m}) and b({len(b)},)\")\n",
    "        \n",
    "    if not x0:\n",
    "        x0 = np.random.random(n)\n",
    "\n",
    "    # A =  D - L - U\n",
    "    \n",
    "    D = np.diag(np.diag(A))\n",
    "    L = - np.tril(A, -1)\n",
    "    U = - np.triu(A, 1)\n",
    "    \n",
    "    _inv_DsWL = np.linalg.pinv(D - w * L)\n",
    "    \n",
    "    B = _inv_DsWL @ ((1-w) * D + w * U)\n",
    "    f = w * _inv_DsWL @ b\n",
    "    \n",
    "    x = x0\n",
    "    i = 0\n",
    "\n",
    "    for i in range(int(max_steps)):\n",
    "        x_prev = np.array(x)  # deep copy\n",
    "        \n",
    "        x = B @ x + f\n",
    "        \n",
    "        if np.all(np.abs(x - x_prev) <= eps):  # 达到精度要求\n",
    "            break\n",
    "    else:\n",
    "        raise Exception(f\"cannot reach eps ({eps}) after max_steps ({max_steps}). The last result: x = {x}\")\n",
    "    \n",
    "    \n",
    "    if verbose:\n",
    "        print(f\"sor (w={w}) get result x = {x} after {i} iterations.\")\n",
    "\n",
    "    return x"
   ]
  },
  {
   "cell_type": "code",
   "execution_count": 97,
   "metadata": {},
   "outputs": [
    {
     "name": "stdout",
     "output_type": "stream",
     "text": [
      "sor (w=1.1) get result x = [1. 1. 1.] after 14 iterations.\n"
     ]
    },
    {
     "data": {
      "text/plain": [
       "array([1., 1., 1.])"
      ]
     },
     "execution_count": 97,
     "metadata": {},
     "output_type": "execute_result"
    }
   ],
   "source": [
    "sor([[9,-1,-1], [-1,10,-1],[-1,-1,15]], [7,8,13], w=1.1, eps=1e-12, verbose=True)"
   ]
  },
  {
   "cell_type": "code",
   "execution_count": 98,
   "metadata": {},
   "outputs": [
    {
     "name": "stdout",
     "output_type": "stream",
     "text": [
      "jacobi_iter get result x = [-1. -1. -1. -1.] after 68 iterations.\n",
      "gauss_seidel_iter get result x = [-1. -1. -1. -1.] after 36 iterations.\n",
      "sor (w=1.3) get result x = [-1. -1. -1. -1.] after 20 iterations.\n"
     ]
    },
    {
     "data": {
      "text/plain": [
       "array([-1., -1., -1., -1.])"
      ]
     },
     "execution_count": 98,
     "metadata": {},
     "output_type": "execute_result"
    }
   ],
   "source": [
    "A = [[-4, 1, 1, 1], \n",
    "     [1, -4, 1, 1],\n",
    "     [1, 1, -4, 1],\n",
    "     [1, 1, 1, -4]]\n",
    "b = [1, 1, 1, 1]\n",
    "\n",
    "x0 = [0, 0, 0, 0]\n",
    "\n",
    "jacobi_iter(A, b, x0=x0, eps=1e-9, verbose=True)\n",
    "gauss_seidel_iter(A, b, x0=x0, eps=1e-9, verbose=True)\n",
    "sor(A, b, x0=x0, w=1.3, eps=1e-9, verbose=True)"
   ]
  },
  {
   "cell_type": "markdown",
   "metadata": {},
   "source": [
    "重复的代码有点多，面向对象封装一下："
   ]
  },
  {
   "cell_type": "code",
   "execution_count": 190,
   "metadata": {},
   "outputs": [],
   "source": [
    "class SimpleIteration(object):\n",
    "    \"\"\"求解线性方程组的迭代法:\n",
    "        A @ x = b\n",
    "    \n",
    "    调用 SimpleIteration 子类实例得到解, e.g. JacobiIteration(A, b)()\n",
    "    \n",
    "    \"\"\"\n",
    "    def __init__(self, A, b):\n",
    "        \"\"\"\n",
    "        A:  np_array_like, 系数矩阵\n",
    "        b:  np_array_like, 右端常数\n",
    "        \"\"\"\n",
    "        self.A = np.array(A)\n",
    "        self.b = np.array(b)\n",
    "\n",
    "        n, m = self.A.shape\n",
    "        if n != m or n != len(self.b):\n",
    "            raise ValueError(f\"Not match: A({n, m}) and b({len(b)},)\")\n",
    "        \n",
    "    @staticmethod\n",
    "    def _dlu(A):\n",
    "        \"\"\"分裂 A:\n",
    "            A = D - L - U\n",
    "\n",
    "        Args:\n",
    "            A: np.array\n",
    "\n",
    "        Returns:\n",
    "            (D, L, U)\n",
    "        \"\"\"\n",
    "        D = np.diag(np.diag(A))\n",
    "        L = - np.tril(A, -1)\n",
    "        U = - np.triu(A, 1)\n",
    "\n",
    "        return D, L, U\n",
    "    \n",
    "    def _B_f(self):\n",
    "        \"\"\"计算迭代 x = B @ x + f 的 B 和 f\n",
    "        \"\"\"\n",
    "        raise NotImplementedError('_B_f')\n",
    "                \n",
    "    def __call__(self, x0=None, eps=1e-5, max_steps=5000, verbose=False):\n",
    "        \"\"\"线性方程组「简单迭代法」的迭代过程\n",
    "            x = B @ x + f\n",
    "            \n",
    "        其中 B, f 调用 self._B_f() 得到\n",
    "        \n",
    "\n",
    "        Args:\n",
    "            x0: np_array_like, 迭代初值\n",
    "                default x0=None means using random values.\n",
    "            eps: float, 精度要求\n",
    "            max_steps: int, 最大迭代次数\n",
    "            verbose: bool, 如果计算成功，打印出结果及迭代次数\n",
    "\n",
    "        Returns:\n",
    "            x: 方程组的解\n",
    "\n",
    "        Raises:\n",
    "            ValueError: x0 形状不符合问题\n",
    "            Expection:  达到最大迭代次数，仍不满足精度\n",
    "        \"\"\"\n",
    "        if not x0:\n",
    "            x0 = np.random.random(self.A.shape[0])\n",
    "        \n",
    "        x0_shape = np.shape(x0)\n",
    "        if x0_shape[0] != self.A.shape[0]:\n",
    "            raise ValueError(f\"Not match: A({self.A.shape}) and x0({x0_shape})\")\n",
    "        \n",
    "        B, f = self._B_f()\n",
    "        \n",
    "        x = x0\n",
    "        i = 0\n",
    "        for i in range(int(max_steps)):\n",
    "            x_prev = np.array(x)  # deep copy\n",
    "\n",
    "            x = B @ x + f\n",
    "\n",
    "            if np.all(np.abs(x - x_prev) <= eps):  # 达到精度要求\n",
    "                break\n",
    "        else:\n",
    "            raise Exception(f\"{self.method_name()} cannot reach eps ({eps}) after max_steps ({max_steps}). The last result: x = {x}\")\n",
    "\n",
    "            \n",
    "        if verbose:\n",
    "            print(f\"{self.method_name()} get result x = {x} after {i} iterations.\")\n",
    "            \n",
    "    def method_name(self):\n",
    "        return self.__class__.__name__"
   ]
  },
  {
   "cell_type": "code",
   "execution_count": 193,
   "metadata": {},
   "outputs": [],
   "source": [
    "class JacobiIteration(SimpleIteration):\n",
    "    \"\"\"雅可比（Jacobi）迭代法求解线性方程组:\n",
    "        A @ x = b\n",
    "    \"\"\"\n",
    "    def _B_f(self):\n",
    "        D, L, U = self._dlu(self.A)\n",
    "        \n",
    "        inv_D = np.linalg.pinv(D)\n",
    "\n",
    "        B = inv_D @ (L + U)\n",
    "        f = inv_D @ self.b\n",
    "        \n",
    "        return B, f\n",
    "    \n",
    "class GaussSeidel(SimpleIteration):\n",
    "    \"\"\"高斯-赛德尔迭代（Gauss–Seidel method）求解线性方程组:\n",
    "        A @ x = b\n",
    "    \"\"\"\n",
    "    def _B_f(self):\n",
    "        D, L, U = self._dlu(self.A)\n",
    "        \n",
    "\n",
    "        inv_DsL = np.linalg.pinv(D - L)\n",
    "\n",
    "        B = inv_DsL @ U\n",
    "        f = inv_DsL @ self.b\n",
    "        \n",
    "        return B, f\n",
    "    \n",
    "class SOR(SimpleIteration):\n",
    "    \"\"\"逐次超松驰法（Successive over-relaxation, SOR）求解线性方程组:\n",
    "        A @ x = b\n",
    "    \"\"\"\n",
    "    def __init__(self, A, b, w=1):\n",
    "        \"\"\"\n",
    "        w:  float, 松弛因子 w > 0\n",
    "            default w=1，即 Gauss–Seidel 迭代\n",
    "        \"\"\"\n",
    "        super().__init__(A, b)\n",
    "        self.w = w\n",
    "        \n",
    "    def _B_f(self):\n",
    "        D, L, U = self._dlu(self.A)\n",
    "        w = self.w\n",
    "    \n",
    "        _inv_DsWL = np.linalg.pinv(D - w * L)\n",
    "\n",
    "        B = _inv_DsWL @ ((1-w) * D + w * U)\n",
    "        f = w * _inv_DsWL @ self.b\n",
    "    \n",
    "        return B, f\n",
    "    \n",
    "    def method_name(self):\n",
    "        return super().method_name() + f' (w={self.w})'"
   ]
  },
  {
   "cell_type": "code",
   "execution_count": 194,
   "metadata": {},
   "outputs": [
    {
     "name": "stdout",
     "output_type": "stream",
     "text": [
      "JacobiIteration get result x = [-1. -1. -1. -1.] after 68 iterations.\n",
      "GaussSeidel get result x = [-1. -1. -1. -1.] after 36 iterations.\n",
      "SOR (w=1) get result x = [-1. -1. -1. -1.] after 36 iterations.\n",
      "SOR (w=1.1) get result x = [-1. -1. -1. -1.] after 28 iterations.\n"
     ]
    },
    {
     "name": "stderr",
     "output_type": "stream",
     "text": [
      "/usr/local/lib/python3.7/site-packages/ipykernel_launcher.py:78: RuntimeWarning: overflow encountered in matmul\n",
      "/usr/local/lib/python3.7/site-packages/ipykernel_launcher.py:78: RuntimeWarning: invalid value encountered in matmul\n",
      "/usr/local/lib/python3.7/site-packages/ipykernel_launcher.py:80: RuntimeWarning: invalid value encountered in less_equal\n"
     ]
    },
    {
     "ename": "Exception",
     "evalue": "SOR (w=10) cannot reach eps (1e-09) after max_steps (5000). The last result: x = [nan nan nan nan]",
     "output_type": "error",
     "traceback": [
      "\u001b[0;31m---------------------------------------------------------------------------\u001b[0m",
      "\u001b[0;31mException\u001b[0m                                 Traceback (most recent call last)",
      "\u001b[0;32m<ipython-input-194-5f10eac6fc19>\u001b[0m in \u001b[0;36m<module>\u001b[0;34m\u001b[0m\n\u001b[1;32m      8\u001b[0m \u001b[0;34m\u001b[0m\u001b[0m\n\u001b[1;32m      9\u001b[0m \u001b[0;32mfor\u001b[0m \u001b[0mmethod\u001b[0m \u001b[0;32min\u001b[0m \u001b[0;34m[\u001b[0m\u001b[0mJacobiIteration\u001b[0m\u001b[0;34m(\u001b[0m\u001b[0mA\u001b[0m\u001b[0;34m,\u001b[0m \u001b[0mb\u001b[0m\u001b[0;34m)\u001b[0m\u001b[0;34m,\u001b[0m \u001b[0mGaussSeidel\u001b[0m\u001b[0;34m(\u001b[0m\u001b[0mA\u001b[0m\u001b[0;34m,\u001b[0m \u001b[0mb\u001b[0m\u001b[0;34m)\u001b[0m\u001b[0;34m,\u001b[0m \u001b[0mSOR\u001b[0m\u001b[0;34m(\u001b[0m\u001b[0mA\u001b[0m\u001b[0;34m,\u001b[0m \u001b[0mb\u001b[0m\u001b[0;34m,\u001b[0m \u001b[0;36m1\u001b[0m\u001b[0;34m)\u001b[0m\u001b[0;34m,\u001b[0m \u001b[0mSOR\u001b[0m\u001b[0;34m(\u001b[0m\u001b[0mA\u001b[0m\u001b[0;34m,\u001b[0m \u001b[0mb\u001b[0m\u001b[0;34m,\u001b[0m \u001b[0;36m1.1\u001b[0m\u001b[0;34m)\u001b[0m\u001b[0;34m,\u001b[0m \u001b[0mSOR\u001b[0m\u001b[0;34m(\u001b[0m\u001b[0mA\u001b[0m\u001b[0;34m,\u001b[0m \u001b[0mb\u001b[0m\u001b[0;34m,\u001b[0m \u001b[0;36m10\u001b[0m\u001b[0;34m)\u001b[0m\u001b[0;34m]\u001b[0m\u001b[0;34m:\u001b[0m\u001b[0;34m\u001b[0m\u001b[0;34m\u001b[0m\u001b[0m\n\u001b[0;32m---> 10\u001b[0;31m     \u001b[0mmethod\u001b[0m\u001b[0;34m(\u001b[0m\u001b[0mx0\u001b[0m\u001b[0;34m=\u001b[0m\u001b[0mx0\u001b[0m\u001b[0;34m,\u001b[0m \u001b[0meps\u001b[0m\u001b[0;34m=\u001b[0m\u001b[0;36m1e-9\u001b[0m\u001b[0;34m,\u001b[0m \u001b[0mverbose\u001b[0m\u001b[0;34m=\u001b[0m\u001b[0;32mTrue\u001b[0m\u001b[0;34m)\u001b[0m\u001b[0;34m\u001b[0m\u001b[0;34m\u001b[0m\u001b[0m\n\u001b[0m",
      "\u001b[0;32m<ipython-input-190-470dd252f93a>\u001b[0m in \u001b[0;36m__call__\u001b[0;34m(self, x0, eps, max_steps, verbose)\u001b[0m\n\u001b[1;32m     81\u001b[0m                 \u001b[0;32mbreak\u001b[0m\u001b[0;34m\u001b[0m\u001b[0;34m\u001b[0m\u001b[0m\n\u001b[1;32m     82\u001b[0m         \u001b[0;32melse\u001b[0m\u001b[0;34m:\u001b[0m\u001b[0;34m\u001b[0m\u001b[0;34m\u001b[0m\u001b[0m\n\u001b[0;32m---> 83\u001b[0;31m             \u001b[0;32mraise\u001b[0m \u001b[0mException\u001b[0m\u001b[0;34m(\u001b[0m\u001b[0;34mf\"{self.method_name()} cannot reach eps ({eps}) after max_steps ({max_steps}). The last result: x = {x}\"\u001b[0m\u001b[0;34m)\u001b[0m\u001b[0;34m\u001b[0m\u001b[0;34m\u001b[0m\u001b[0m\n\u001b[0m\u001b[1;32m     84\u001b[0m \u001b[0;34m\u001b[0m\u001b[0m\n\u001b[1;32m     85\u001b[0m \u001b[0;34m\u001b[0m\u001b[0m\n",
      "\u001b[0;31mException\u001b[0m: SOR (w=10) cannot reach eps (1e-09) after max_steps (5000). The last result: x = [nan nan nan nan]"
     ]
    }
   ],
   "source": [
    "A = [[-4, 1, 1, 1], \n",
    "     [1, -4, 1, 1],\n",
    "     [1, 1, -4, 1],\n",
    "     [1, 1, 1, -4]]\n",
    "b = [1, 1, 1, 1]\n",
    "\n",
    "x0 = [0, 0, 0, 0]\n",
    "\n",
    "for method in [JacobiIteration(A, b), GaussSeidel(A, b), SOR(A, b, 1), SOR(A, b, 1.1), SOR(A, b, 10)]:\n",
    "    method(x0=x0, eps=1e-9, verbose=True)"
   ]
  },
  {
   "cell_type": "code",
   "execution_count": null,
   "metadata": {},
   "outputs": [],
   "source": []
  }
 ],
 "metadata": {
  "kernelspec": {
   "display_name": "Python 3",
   "language": "python",
   "name": "python3"
  },
  "language_info": {
   "codemirror_mode": {
    "name": "ipython",
    "version": 3
   },
   "file_extension": ".py",
   "mimetype": "text/x-python",
   "name": "python",
   "nbconvert_exporter": "python",
   "pygments_lexer": "ipython3",
   "version": "3.7.6"
  }
 },
 "nbformat": 4,
 "nbformat_minor": 4
}
