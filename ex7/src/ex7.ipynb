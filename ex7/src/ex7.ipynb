{
 "cells": [
  {
   "cell_type": "markdown",
   "metadata": {},
   "source": [
    "# 实验七 线性方程组的迭代解法\n",
    "\n",
    "雅可比（Jacobi）迭代法"
   ]
  },
  {
   "cell_type": "code",
   "execution_count": 4,
   "metadata": {},
   "outputs": [],
   "source": [
    "import numpy as np\n",
    "\n",
    "def jacobi_iter(A, b, x0=None, eps=1e-5, max_steps=5000, verbose=False):\n",
    "    \"\"\"雅可比（Jacobi）迭代法求解线性方程组:\n",
    "        A @ x = b\n",
    "    \n",
    "    Args:\n",
    "        A:  np_array_like, 系数矩阵\n",
    "        b:  np_array_like, 右端常数\n",
    "        x0: np_array_like, 迭代初值\n",
    "            default x0=None means using random values.\n",
    "        eps: float, 精度要求\n",
    "        max_steps: int, 最大迭代次数\n",
    "        verbose: bool, 如果计算成功，打印出结果及迭代次数\n",
    "        \n",
    "    Returns:\n",
    "        x: 方程组的解\n",
    "        \n",
    "    Raises:\n",
    "        ValueError: A 和 b 形状不符合要求\n",
    "        Expection:  达到最大迭代次数，仍不满足精度\n",
    "    \"\"\"\n",
    "    A = np.array(A)\n",
    "    b = np.array(b)\n",
    "    \n",
    "    n, m = A.shape\n",
    "    if n != m or n != len(b):\n",
    "        raise ValueError(f\"Not match: A({n, m}) and b({len(b)},)\")\n",
    "        \n",
    "    if not x0:\n",
    "        x0 = np.random.random(n)\n",
    "        \n",
    "    # A =  D - L - U\n",
    "    \n",
    "    D = np.diag(np.diag(A))\n",
    "    L = - np.tril(A, -1)\n",
    "    U = - np.triu(A, 1)\n",
    "    \n",
    "    inv_D = np.linalg.pinv(D)\n",
    "    \n",
    "    B = inv_D @ (L + U)\n",
    "    f = inv_D @ b\n",
    "    \n",
    "    x = x0\n",
    "    i = 0\n",
    "    for i in range(int(max_steps)):\n",
    "        x_prev = np.array(x)  # deep copy\n",
    "        \n",
    "        x = B @ x + f\n",
    "        \n",
    "        if np.all(np.abs(x - x_prev) <= eps):  # 达到精度要求\n",
    "            break\n",
    "    else:\n",
    "        raise Exception(f\"cannot reach eps ({eps}) after max_steps ({max_steps}). The last result: x = {x}\")\n",
    "    \n",
    "    if verbose:\n",
    "        print(f\"jacobi_iter get result x = {x} after {i} iterations.\")\n",
    "\n",
    "    return x"
   ]
  },
  {
   "cell_type": "code",
   "execution_count": 86,
   "metadata": {},
   "outputs": [
    {
     "name": "stdout",
     "output_type": "stream",
     "text": [
      "jacobi_iter get result x = [0.99999906 0.99999911 0.99999933] after 7 iterations.\n"
     ]
    },
    {
     "data": {
      "text/plain": [
       "array([0.99999906, 0.99999911, 0.99999933])"
      ]
     },
     "execution_count": 86,
     "metadata": {},
     "output_type": "execute_result"
    }
   ],
   "source": [
    "jacobi_iter([[9,-1,-1], [-1,10,-1],[-1,-1,15]], [7,8,13], verbose=True)\n",
    "# jacobi_iter([[9,-1,-1], [-1,10,-1],[-1,-1,15]], [7,8,13], x0=[99999, 99999, 99999], verbose=True)"
   ]
  },
  {
   "cell_type": "markdown",
   "metadata": {},
   "source": [
    "高斯-赛德尔迭代"
   ]
  },
  {
   "cell_type": "code",
   "execution_count": 45,
   "metadata": {},
   "outputs": [],
   "source": [
    "def gauss_seidel_iter(A, b, x0=None, eps=1e-5, max_steps=5000, verbose=False):\n",
    "    \"\"\"高斯-赛德尔迭代（Gauss–Seidel method）求解线性方程组:\n",
    "        A @ x = b\n",
    "    \n",
    "    Args:\n",
    "        A:  np_array_like, 系数矩阵\n",
    "        b:  np_array_like, 右端常数\n",
    "        x0: np_array_like, 迭代初值\n",
    "            default x0=None means using random values.\n",
    "        eps: float, 精度要求\n",
    "        max_steps: int, 最大迭代次数\n",
    "        verbose: bool, 如果计算成功，打印出结果及迭代次数\n",
    "        \n",
    "    Returns:\n",
    "        x: 方程组的解\n",
    "        \n",
    "    Raises:\n",
    "        ValueError: A 和 b 形状不符合要求\n",
    "        Expection:  达到最大迭代次数，仍不满足精度\n",
    "    \"\"\"\n",
    "    A = np.array(A)\n",
    "    b = np.array(b)\n",
    "    \n",
    "    n, m = A.shape\n",
    "    if n != m or n != len(b):\n",
    "        raise ValueError(f\"Not match: A({n, m}) and b({len(b)},)\")\n",
    "        \n",
    "    if not x0:\n",
    "        x0 = np.random.random(n)\n",
    "\n",
    "    # A =  D - L - U\n",
    "    \n",
    "    D = np.diag(np.diag(A))\n",
    "    L = - np.tril(A, -1)\n",
    "    U = - np.triu(A, 1)\n",
    "    \n",
    "    inv_DsL = np.linalg.pinv(D - L)\n",
    "    \n",
    "    B = inv_DsL @ U\n",
    "    f = inv_DsL @ b\n",
    "    \n",
    "    x = x0\n",
    "    i = 0\n",
    "    for i in range(int(max_steps)):\n",
    "        x_prev = np.array(x)  # deep copy\n",
    "        \n",
    "        inv_DsL = np.linalg.pinv(D - L)\n",
    "        x = B @ x + f\n",
    "        \n",
    "        if np.all(np.abs(x - x_prev) <= eps):  # 达到精度要求\n",
    "            break\n",
    "    else:\n",
    "        raise Exception(f\"cannot reach eps ({eps}) after max_steps ({max_steps}). The last result: x = {x}\")\n",
    "    \n",
    "    \n",
    "    if verbose:\n",
    "        print(f\"gauss_seidel_iter get result x = {x} after {i} iterations.\")\n",
    "\n",
    "    return x"
   ]
  },
  {
   "cell_type": "code",
   "execution_count": 95,
   "metadata": {},
   "outputs": [
    {
     "name": "stdout",
     "output_type": "stream",
     "text": [
      "gauss_seidel_iter get result x = [1. 1. 1.] after 10 iterations.\n"
     ]
    },
    {
     "data": {
      "text/plain": [
       "array([1., 1., 1.])"
      ]
     },
     "execution_count": 95,
     "metadata": {},
     "output_type": "execute_result"
    }
   ],
   "source": [
    "gauss_seidel_iter([[9,-1,-1], [-1,10,-1],[-1,-1,15]], [7,8,13], eps=1e-12, verbose=True)"
   ]
  },
  {
   "cell_type": "markdown",
   "metadata": {},
   "source": [
    "SOR 迭代法"
   ]
  },
  {
   "cell_type": "code",
   "execution_count": 46,
   "metadata": {},
   "outputs": [],
   "source": [
    "def sor(A, b, x0=None, w=1, eps=1e-5, max_steps=5000, verbose=False):\n",
    "    \"\"\"逐次超松驰法（Successive over-relaxation, SOR）求解线性方程组:\n",
    "        A @ x = b\n",
    "    \n",
    "    Args:\n",
    "        A:  np_array_like, 系数矩阵\n",
    "        b:  np_array_like, 右端常数\n",
    "        x0: np_array_like, 迭代初值\n",
    "            default x0=None means using random values.\n",
    "        w:  float, 松弛因子 w > 0\n",
    "            default w=1，即 Gauss–Seidel 迭代\n",
    "        eps: float, 精度要求\n",
    "        max_steps: int, 最大迭代次数\n",
    "        verbose: bool, 如果计算成功，打印出结果及迭代次数\n",
    "        \n",
    "    Returns:\n",
    "        x: 方程组的解\n",
    "        \n",
    "    Raises:\n",
    "        ValueError: w 小于等于 0\n",
    "        ValueError: A 和 b 形状不符合要求\n",
    "        Expection:  达到最大迭代次数，仍不满足精度\n",
    "    \"\"\"\n",
    "    if w <= 0:\n",
    "        raise ValueError(f\"unexpected w = {w} < 0\")\n",
    "    \n",
    "    A = np.array(A)\n",
    "    b = np.array(b)\n",
    "    \n",
    "    n, m = A.shape\n",
    "    if n != m or n != len(b):\n",
    "        raise ValueError(f\"Not match: A({n, m}) and b({len(b)},)\")\n",
    "        \n",
    "    if not x0:\n",
    "        x0 = np.random.random(n)\n",
    "\n",
    "    # A =  D - L - U\n",
    "    \n",
    "    D = np.diag(np.diag(A))\n",
    "    L = - np.tril(A, -1)\n",
    "    U = - np.triu(A, 1)\n",
    "    \n",
    "    _inv_DsWL = np.linalg.pinv(D - w * L)\n",
    "    \n",
    "    B = _inv_DsWL @ ((1-w) * D + w * U)\n",
    "    f = w * _inv_DsWL @ b\n",
    "    \n",
    "    x = x0\n",
    "    i = 0\n",
    "\n",
    "    for i in range(int(max_steps)):\n",
    "        x_prev = np.array(x)  # deep copy\n",
    "        \n",
    "        x = B @ x + f\n",
    "        \n",
    "        if np.all(np.abs(x - x_prev) <= eps):  # 达到精度要求\n",
    "            break\n",
    "    else:\n",
    "        raise Exception(f\"cannot reach eps ({eps}) after max_steps ({max_steps}). The last result: x = {x}\")\n",
    "    \n",
    "    \n",
    "    if verbose:\n",
    "        print(f\"sor (w={w}) get result x = {x} after {i} iterations.\")\n",
    "\n",
    "    return x"
   ]
  },
  {
   "cell_type": "code",
   "execution_count": 97,
   "metadata": {},
   "outputs": [
    {
     "name": "stdout",
     "output_type": "stream",
     "text": [
      "sor (w=1.1) get result x = [1. 1. 1.] after 14 iterations.\n"
     ]
    },
    {
     "data": {
      "text/plain": [
       "array([1., 1., 1.])"
      ]
     },
     "execution_count": 97,
     "metadata": {},
     "output_type": "execute_result"
    }
   ],
   "source": [
    "sor([[9,-1,-1], [-1,10,-1],[-1,-1,15]], [7,8,13], w=1.1, eps=1e-12, verbose=True)"
   ]
  },
  {
   "cell_type": "code",
   "execution_count": 98,
   "metadata": {},
   "outputs": [
    {
     "name": "stdout",
     "output_type": "stream",
     "text": [
      "jacobi_iter get result x = [-1. -1. -1. -1.] after 68 iterations.\n",
      "gauss_seidel_iter get result x = [-1. -1. -1. -1.] after 36 iterations.\n",
      "sor (w=1.3) get result x = [-1. -1. -1. -1.] after 20 iterations.\n"
     ]
    },
    {
     "data": {
      "text/plain": [
       "array([-1., -1., -1., -1.])"
      ]
     },
     "execution_count": 98,
     "metadata": {},
     "output_type": "execute_result"
    }
   ],
   "source": [
    "A = [[-4, 1, 1, 1], \n",
    "     [1, -4, 1, 1],\n",
    "     [1, 1, -4, 1],\n",
    "     [1, 1, 1, -4]]\n",
    "b = [1, 1, 1, 1]\n",
    "\n",
    "x0 = [0, 0, 0, 0]\n",
    "\n",
    "jacobi_iter(A, b, x0=x0, eps=1e-9, verbose=True)\n",
    "gauss_seidel_iter(A, b, x0=x0, eps=1e-9, verbose=True)\n",
    "sor(A, b, x0=x0, w=1.3, eps=1e-9, verbose=True)"
   ]
  },
  {
   "cell_type": "markdown",
   "metadata": {},
   "source": [
    "重复的代码有点多，面向对象封装一下："
   ]
  },
  {
   "cell_type": "code",
   "execution_count": 5,
   "metadata": {},
   "outputs": [],
   "source": [
    "class SimpleIteration(object):\n",
    "    \"\"\"求解线性方程组的迭代法:\n",
    "        A @ x = b\n",
    "    \n",
    "    调用 SimpleIteration 子类实例得到解, e.g. JacobiIteration(A, b)()\n",
    "    \n",
    "    \"\"\"\n",
    "    def __init__(self, A, b):\n",
    "        \"\"\"\n",
    "        A:  np_array_like, 系数矩阵\n",
    "        b:  np_array_like, 右端常数\n",
    "        \"\"\"\n",
    "        self.A = np.array(A)\n",
    "        self.b = np.array(b)\n",
    "\n",
    "        n, m = self.A.shape\n",
    "        if n != m or n != len(self.b):\n",
    "            raise ValueError(f\"Not match: A({n, m}) and b({len(b)},)\")\n",
    "        \n",
    "    @staticmethod\n",
    "    def _dlu(A):\n",
    "        \"\"\"分裂 A:\n",
    "            A = D - L - U\n",
    "\n",
    "        Args:\n",
    "            A: np.array\n",
    "\n",
    "        Returns:\n",
    "            (D, L, U)\n",
    "        \"\"\"\n",
    "        D = np.diag(np.diag(A))\n",
    "        L = - np.tril(A, -1)\n",
    "        U = - np.triu(A, 1)\n",
    "\n",
    "        return D, L, U\n",
    "    \n",
    "    def _B_f(self):\n",
    "        \"\"\"计算迭代 x = B @ x + f 的 B 和 f\n",
    "        \"\"\"\n",
    "        raise NotImplementedError('_B_f')\n",
    "                \n",
    "    def __call__(self, x0=None, eps=1e-5, max_steps=5000, verbose=False):\n",
    "        \"\"\"线性方程组「简单迭代法」的迭代过程\n",
    "            x = B @ x + f\n",
    "            \n",
    "        其中 B, f 调用 self._B_f() 得到\n",
    "        \n",
    "\n",
    "        Args:\n",
    "            x0: np_array_like, 迭代初值\n",
    "                default x0=None means using random values.\n",
    "            eps: float, 精度要求\n",
    "            max_steps: int, 最大迭代次数\n",
    "            verbose: bool, 如果计算成功，打印出结果及迭代次数\n",
    "\n",
    "        Returns:\n",
    "            x: 方程组的解\n",
    "\n",
    "        Raises:\n",
    "            ValueError: x0 形状不符合问题\n",
    "            Expection:  达到最大迭代次数，仍不满足精度\n",
    "        \"\"\"\n",
    "        if not x0:\n",
    "            x0 = np.random.random(self.A.shape[0])\n",
    "        \n",
    "        x0_shape = np.shape(x0)\n",
    "        if x0_shape[0] != self.A.shape[0]:\n",
    "            raise ValueError(f\"Not match: A({self.A.shape}) and x0({x0_shape})\")\n",
    "        \n",
    "        B, f = self._B_f()\n",
    "        \n",
    "        x = x0\n",
    "        i = 0\n",
    "        for i in range(int(max_steps)):\n",
    "            x_prev = np.array(x)  # deep copy\n",
    "\n",
    "            x = B @ x + f\n",
    "\n",
    "            if np.all(np.abs(x - x_prev) <= eps):  # 达到精度要求\n",
    "                break\n",
    "        else:\n",
    "            raise Exception(f\"{self.method_name()} cannot reach eps ({eps}) after max_steps ({max_steps}). The last result: x = {x}\")\n",
    "\n",
    "            \n",
    "        if verbose:\n",
    "            print(f\"{self.method_name()} get result x = {x} after {i} iterations.\")\n",
    "            \n",
    "    def method_name(self):\n",
    "        return self.__class__.__name__"
   ]
  },
  {
   "cell_type": "code",
   "execution_count": 6,
   "metadata": {},
   "outputs": [],
   "source": [
    "class JacobiIteration(SimpleIteration):\n",
    "    \"\"\"雅可比（Jacobi）迭代法求解线性方程组:\n",
    "        A @ x = b\n",
    "    \"\"\"\n",
    "    def _B_f(self):\n",
    "        D, L, U = self._dlu(self.A)\n",
    "        \n",
    "        inv_D = np.linalg.pinv(D)\n",
    "\n",
    "        B = inv_D @ (L + U)\n",
    "        f = inv_D @ self.b\n",
    "        \n",
    "        return B, f\n",
    "    \n",
    "class GaussSeidel(SimpleIteration):\n",
    "    \"\"\"高斯-赛德尔迭代（Gauss–Seidel method）求解线性方程组:\n",
    "        A @ x = b\n",
    "    \"\"\"\n",
    "    def _B_f(self):\n",
    "        D, L, U = self._dlu(self.A)\n",
    "        \n",
    "\n",
    "        inv_DsL = np.linalg.pinv(D - L)\n",
    "\n",
    "        B = inv_DsL @ U\n",
    "        f = inv_DsL @ self.b\n",
    "        \n",
    "        return B, f\n",
    "    \n",
    "class SOR(SimpleIteration):\n",
    "    \"\"\"逐次超松驰法（Successive over-relaxation, SOR）求解线性方程组:\n",
    "        A @ x = b\n",
    "    \"\"\"\n",
    "    def __init__(self, A, b, w=1):\n",
    "        \"\"\"\n",
    "        w:  float, 松弛因子 w > 0\n",
    "            default w=1，即 Gauss–Seidel 迭代\n",
    "        \"\"\"\n",
    "        super().__init__(A, b)\n",
    "        self.w = w\n",
    "        \n",
    "    def _B_f(self):\n",
    "        D, L, U = self._dlu(self.A)\n",
    "        w = self.w\n",
    "    \n",
    "        _inv_DsWL = np.linalg.pinv(D - w * L)\n",
    "\n",
    "        B = _inv_DsWL @ ((1-w) * D + w * U)\n",
    "        f = w * _inv_DsWL @ self.b\n",
    "    \n",
    "        return B, f\n",
    "    \n",
    "    def method_name(self):\n",
    "        return super().method_name() + f' (w={self.w})'"
   ]
  },
  {
   "cell_type": "code",
   "execution_count": 7,
   "metadata": {},
   "outputs": [
    {
     "name": "stdout",
     "output_type": "stream",
     "text": [
      "JacobiIteration get result x = [-1. -1. -1. -1.] after 68 iterations.\n",
      "GaussSeidel get result x = [-1. -1. -1. -1.] after 36 iterations.\n",
      "SOR (w=0.9) get result x = [-1. -1. -1. -1.] after 46 iterations.\n",
      "SOR (w=1) get result x = [-1. -1. -1. -1.] after 36 iterations.\n",
      "SOR (w=1.1) get result x = [-1. -1. -1. -1.] after 28 iterations.\n"
     ]
    }
   ],
   "source": [
    "A = [[-4, 1, 1, 1], \n",
    "     [1, -4, 1, 1],\n",
    "     [1, 1, -4, 1],\n",
    "     [1, 1, 1, -4]]\n",
    "b = [1, 1, 1, 1]\n",
    "\n",
    "x0 = [0, 0, 0, 0]\n",
    "\n",
    "for method in [JacobiIteration(A, b), GaussSeidel(A, b), SOR(A, b, 0.9), SOR(A, b, 1), SOR(A, b, 1.1)]:\n",
    "    method(x0=x0, eps=1e-9, verbose=True)"
   ]
  },
  {
   "cell_type": "markdown",
   "metadata": {},
   "source": [
    "寻找最好的 w："
   ]
  },
  {
   "cell_type": "code",
   "execution_count": 19,
   "metadata": {},
   "outputs": [
    {
     "name": "stdout",
     "output_type": "stream",
     "text": [
      "SOR (w=0.1) get result x = [-0.99999996 -0.99999996 -0.99999996 -0.99999996] after 649 iterations.\n",
      "SOR (w=0.1181818181818182) get result x = [-0.99999997 -0.99999997 -0.99999997 -0.99999997] after 550 iterations.\n",
      "SOR (w=0.13636363636363635) get result x = [-0.99999997 -0.99999997 -0.99999997 -0.99999997] after 476 iterations.\n",
      "SOR (w=0.15454545454545454) get result x = [-0.99999998 -0.99999998 -0.99999998 -0.99999998] after 419 iterations.\n",
      "SOR (w=0.17272727272727273) get result x = [-0.99999998 -0.99999998 -0.99999998 -0.99999998] after 374 iterations.\n",
      "SOR (w=0.19090909090909092) get result x = [-0.99999998 -0.99999998 -0.99999998 -0.99999998] after 337 iterations.\n",
      "SOR (w=0.2090909090909091) get result x = [-0.99999998 -0.99999998 -0.99999998 -0.99999998] after 306 iterations.\n",
      "SOR (w=0.22727272727272727) get result x = [-0.99999999 -0.99999999 -0.99999999 -0.99999999] after 280 iterations.\n",
      "SOR (w=0.24545454545454545) get result x = [-0.99999999 -0.99999999 -0.99999999 -0.99999999] after 258 iterations.\n",
      "SOR (w=0.26363636363636367) get result x = [-0.99999999 -0.99999999 -0.99999999 -0.99999999] after 239 iterations.\n",
      "SOR (w=0.28181818181818186) get result x = [-0.99999999 -0.99999999 -0.99999999 -0.99999999] after 222 iterations.\n",
      "SOR (w=0.3) get result x = [-0.99999999 -0.99999999 -0.99999999 -0.99999999] after 207 iterations.\n",
      "SOR (w=0.3181818181818182) get result x = [-0.99999999 -0.99999999 -0.99999999 -0.99999999] after 194 iterations.\n",
      "SOR (w=0.33636363636363636) get result x = [-0.99999999 -0.99999999 -0.99999999 -0.99999999] after 182 iterations.\n",
      "SOR (w=0.3545454545454545) get result x = [-0.99999999 -0.99999999 -0.99999999 -0.99999999] after 171 iterations.\n",
      "SOR (w=0.3727272727272727) get result x = [-0.99999999 -0.99999999 -0.99999999 -0.99999999] after 162 iterations.\n",
      "SOR (w=0.3909090909090909) get result x = [-0.99999999 -0.99999999 -0.99999999 -0.99999999] after 153 iterations.\n",
      "SOR (w=0.40909090909090906) get result x = [-0.99999999 -0.99999999 -0.99999999 -0.99999999] after 145 iterations.\n",
      "SOR (w=0.42727272727272725) get result x = [-0.99999999 -0.99999999 -0.99999999 -0.99999999] after 137 iterations.\n",
      "SOR (w=0.44545454545454544) get result x = [-0.99999999 -0.99999999 -0.99999999 -0.99999999] after 130 iterations.\n",
      "SOR (w=0.4636363636363636) get result x = [-0.99999999 -0.99999999 -0.99999999 -0.99999999] after 124 iterations.\n",
      "SOR (w=0.4818181818181818) get result x = [-0.99999999 -0.99999999 -0.99999999 -1.        ] after 118 iterations.\n",
      "SOR (w=0.5) get result x = [-1. -1. -1. -1.] after 113 iterations.\n",
      "SOR (w=0.5181818181818182) get result x = [-1. -1. -1. -1.] after 108 iterations.\n",
      "SOR (w=0.5363636363636364) get result x = [-1. -1. -1. -1.] after 103 iterations.\n",
      "SOR (w=0.5545454545454546) get result x = [-1. -1. -1. -1.] after 98 iterations.\n",
      "SOR (w=0.5727272727272728) get result x = [-1. -1. -1. -1.] after 94 iterations.\n",
      "SOR (w=0.5909090909090909) get result x = [-1. -1. -1. -1.] after 90 iterations.\n",
      "SOR (w=0.609090909090909) get result x = [-1. -1. -1. -1.] after 87 iterations.\n",
      "SOR (w=0.6272727272727272) get result x = [-1. -1. -1. -1.] after 83 iterations.\n",
      "SOR (w=0.6454545454545454) get result x = [-1. -1. -1. -1.] after 80 iterations.\n",
      "SOR (w=0.6636363636363636) get result x = [-1. -1. -1. -1.] after 76 iterations.\n",
      "SOR (w=0.6818181818181818) get result x = [-1. -1. -1. -1.] after 73 iterations.\n",
      "SOR (w=0.7) get result x = [-1. -1. -1. -1.] after 71 iterations.\n",
      "SOR (w=0.7181818181818181) get result x = [-1. -1. -1. -1.] after 68 iterations.\n",
      "SOR (w=0.7363636363636363) get result x = [-1. -1. -1. -1.] after 65 iterations.\n",
      "SOR (w=0.7545454545454545) get result x = [-1. -1. -1. -1.] after 63 iterations.\n",
      "SOR (w=0.7727272727272727) get result x = [-1. -1. -1. -1.] after 60 iterations.\n",
      "SOR (w=0.7909090909090909) get result x = [-1. -1. -1. -1.] after 58 iterations.\n",
      "SOR (w=0.8090909090909091) get result x = [-1. -1. -1. -1.] after 56 iterations.\n",
      "SOR (w=0.8272727272727273) get result x = [-1. -1. -1. -1.] after 54 iterations.\n",
      "SOR (w=0.8454545454545453) get result x = [-1. -1. -1. -1.] after 52 iterations.\n",
      "SOR (w=0.8636363636363635) get result x = [-1. -1. -1. -1.] after 50 iterations.\n",
      "SOR (w=0.8818181818181817) get result x = [-1. -1. -1. -1.] after 48 iterations.\n",
      "SOR (w=0.8999999999999999) get result x = [-1. -1. -1. -1.] after 46 iterations.\n",
      "SOR (w=0.9181818181818181) get result x = [-1. -1. -1. -1.] after 44 iterations.\n",
      "SOR (w=0.9363636363636363) get result x = [-1. -1. -1. -1.] after 42 iterations.\n",
      "SOR (w=0.9545454545454545) get result x = [-1. -1. -1. -1.] after 41 iterations.\n",
      "SOR (w=0.9727272727272727) get result x = [-1. -1. -1. -1.] after 39 iterations.\n",
      "SOR (w=0.9909090909090909) get result x = [-1. -1. -1. -1.] after 37 iterations.\n",
      "SOR (w=1.009090909090909) get result x = [-1. -1. -1. -1.] after 36 iterations.\n",
      "SOR (w=1.0272727272727273) get result x = [-1. -1. -1. -1.] after 34 iterations.\n",
      "SOR (w=1.0454545454545454) get result x = [-1. -1. -1. -1.] after 33 iterations.\n",
      "SOR (w=1.0636363636363637) get result x = [-1. -1. -1. -1.] after 31 iterations.\n",
      "SOR (w=1.0818181818181818) get result x = [-1. -1. -1. -1.] after 30 iterations.\n",
      "SOR (w=1.1) get result x = [-1. -1. -1. -1.] after 28 iterations.\n",
      "SOR (w=1.1181818181818182) get result x = [-1. -1. -1. -1.] after 27 iterations.\n",
      "SOR (w=1.1363636363636365) get result x = [-1. -1. -1. -1.] after 25 iterations.\n",
      "SOR (w=1.1545454545454545) get result x = [-1. -1. -1. -1.] after 24 iterations.\n",
      "SOR (w=1.1727272727272728) get result x = [-1. -1. -1. -1.] after 22 iterations.\n",
      "SOR (w=1.190909090909091) get result x = [-1. -1. -1. -1.] after 21 iterations.\n",
      "SOR (w=1.2090909090909092) get result x = [-1. -1. -1. -1.] after 19 iterations.\n",
      "SOR (w=1.2272727272727273) get result x = [-1. -1. -1. -1.] after 17 iterations.\n",
      "SOR (w=1.2454545454545456) get result x = [-1. -1. -1. -1.] after 17 iterations.\n",
      "SOR (w=1.2636363636363637) get result x = [-1. -1. -1. -1.] after 18 iterations.\n",
      "SOR (w=1.2818181818181817) get result x = [-1. -1. -1. -1.] after 19 iterations.\n",
      "SOR (w=1.3) get result x = [-1. -1. -1. -1.] after 20 iterations.\n",
      "SOR (w=1.3181818181818181) get result x = [-1. -1. -1. -1.] after 21 iterations.\n",
      "SOR (w=1.3363636363636364) get result x = [-1. -1. -1. -1.] after 22 iterations.\n",
      "SOR (w=1.3545454545454545) get result x = [-1. -1. -1. -1.] after 23 iterations.\n",
      "SOR (w=1.3727272727272728) get result x = [-1. -1. -1. -1.] after 24 iterations.\n",
      "SOR (w=1.3909090909090909) get result x = [-1. -1. -1. -1.] after 25 iterations.\n",
      "SOR (w=1.4090909090909092) get result x = [-1. -1. -1. -1.] after 26 iterations.\n",
      "SOR (w=1.4272727272727272) get result x = [-1. -1. -1. -1.] after 28 iterations.\n",
      "SOR (w=1.4454545454545455) get result x = [-1. -1. -1. -1.] after 29 iterations.\n",
      "SOR (w=1.4636363636363636) get result x = [-1. -1. -1. -1.] after 31 iterations.\n",
      "SOR (w=1.481818181818182) get result x = [-1. -1. -1. -1.] after 32 iterations.\n",
      "SOR (w=1.5) get result x = [-1. -1. -1. -1.] after 34 iterations.\n",
      "SOR (w=1.5181818181818183) get result x = [-1. -1. -1. -1.] after 35 iterations.\n",
      "SOR (w=1.5363636363636364) get result x = [-1. -1. -1. -1.] after 37 iterations.\n",
      "SOR (w=1.5545454545454547) get result x = [-1. -1. -1. -1.] after 39 iterations.\n",
      "SOR (w=1.5727272727272728) get result x = [-1. -1. -1. -1.] after 41 iterations.\n",
      "SOR (w=1.5909090909090908) get result x = [-1. -1. -1. -1.] after 44 iterations.\n",
      "SOR (w=1.6090909090909091) get result x = [-1. -1. -1. -1.] after 46 iterations.\n",
      "SOR (w=1.6272727272727272) get result x = [-1. -1. -1. -1.] after 50 iterations.\n",
      "SOR (w=1.6454545454545455) get result x = [-1. -1. -1. -1.] after 53 iterations.\n",
      "SOR (w=1.6636363636363636) get result x = [-1. -1. -1. -1.] after 55 iterations.\n",
      "SOR (w=1.6818181818181819) get result x = [-1. -1. -1. -1.] after 60 iterations.\n",
      "SOR (w=1.7) get result x = [-1. -1. -1. -1.] after 64 iterations.\n",
      "SOR (w=1.7181818181818183) get result x = [-1. -1. -1. -1.] after 69 iterations.\n",
      "SOR (w=1.7363636363636363) get result x = [-1. -1. -1. -1.] after 74 iterations.\n",
      "SOR (w=1.7545454545454546) get result x = [-1. -1. -1. -1.] after 81 iterations.\n",
      "SOR (w=1.7727272727272727) get result x = [-1. -1. -1. -1.] after 89 iterations.\n",
      "SOR (w=1.790909090909091) get result x = [-1. -1. -1. -1.] after 97 iterations.\n",
      "SOR (w=1.809090909090909) get result x = [-1. -1. -1. -1.] after 107 iterations.\n",
      "SOR (w=1.8272727272727274) get result x = [-1. -1. -1. -1.] after 120 iterations.\n",
      "SOR (w=1.8454545454545455) get result x = [-1. -1. -1. -1.] after 136 iterations.\n",
      "SOR (w=1.8636363636363635) get result x = [-1. -1. -1. -1.] after 155 iterations.\n",
      "SOR (w=1.8818181818181818) get result x = [-1. -1. -1. -1.] after 181 iterations.\n",
      "SOR (w=1.9) get result x = [-1. -1. -1. -1.] after 216 iterations.\n"
     ]
    }
   ],
   "source": [
    "A = [[-4, 1, 1, 1], \n",
    "     [1, -4, 1, 1],\n",
    "     [1, 1, -4, 1],\n",
    "     [1, 1, 1, -4]]\n",
    "b = [1, 1, 1, 1]\n",
    "\n",
    "for w in np.linspace(0.1, 1.9, 100):\n",
    "    rs = SOR(A, b, w)(x0=[0, 0, 0, 0], eps=1e-9, verbose=True)"
   ]
  },
  {
   "cell_type": "markdown",
   "metadata": {},
   "source": [
    "把上面输出的结果写到一个文件 'sorres.txt' 中。然后从中读取 w 与迭代次数："
   ]
  },
  {
   "cell_type": "code",
   "execution_count": 37,
   "metadata": {},
   "outputs": [],
   "source": [
    "import re\n",
    "pattern = r'SOR \\(w=(.*?)\\) get result .*? after (\\d*?) iterations.'\n",
    "\n",
    "ws = []\n",
    "iters = []\n",
    "\n",
    "with open('sorres.txt')  as f:\n",
    "    for line in f:\n",
    "        w, i = list(map(lambda x: float(x), \n",
    "                            re.findall(pattern, line)[0]))\n",
    "        ws.append(w)\n",
    "        iters.append(i)"
   ]
  },
  {
   "cell_type": "markdown",
   "metadata": {},
   "source": [
    "作图分析："
   ]
  },
  {
   "cell_type": "code",
   "execution_count": 38,
   "metadata": {},
   "outputs": [
    {
     "data": {
      "image/png": "[encoded data removed]",
      "text/plain": [
       "<Figure size 432x288 with 1 Axes>"
      ]
     },
     "metadata": {
      "needs_background": "light"
     },
     "output_type": "display_data"
    }
   ],
   "source": [
    "import matplotlib.pyplot as plt\n",
    "\n",
    "plt.plot(ws, iters, 'bo-')\n",
    "plt.xlabel('w')\n",
    "plt.ylabel('iterations')\n",
    "plt.show()"
   ]
  },
  {
   "cell_type": "markdown",
   "metadata": {},
   "source": [
    "从中找到使迭代次数最少的 w:"
   ]
  },
  {
   "cell_type": "code",
   "execution_count": 40,
   "metadata": {},
   "outputs": [
    {
     "name": "stdout",
     "output_type": "stream",
     "text": [
      "best w: 1.2272727272727273\n",
      "iterations: 17\n"
     ]
    }
   ],
   "source": [
    "w_best,iters_min = min(zip(ws, iters), key=lambda x: x[1])\n",
    "print(f'best w: {w_best}\\niterations: {int(iters_min)}')"
   ]
  },
  {
   "cell_type": "markdown",
   "metadata": {},
   "source": [
    "一个无法直接解的例子："
   ]
  },
  {
   "cell_type": "code",
   "execution_count": 51,
   "metadata": {},
   "outputs": [
    {
     "data": {
      "text/plain": [
       "array([ 1.,  2., -1.])"
      ]
     },
     "execution_count": 51,
     "metadata": {},
     "output_type": "execute_result"
    }
   ],
   "source": [
    "A = [[1, -3, -6], \n",
    "     [2, 8, -3], \n",
    "#      [5, 2, 1]]\n",
    "b = [1, 21, 8]\n",
    "np.linalg.solve(A, b)"
   ]
  },
  {
   "cell_type": "code",
   "execution_count": 53,
   "metadata": {},
   "outputs": [
    {
     "name": "stderr",
     "output_type": "stream",
     "text": [
      "/usr/local/lib/python3.7/site-packages/ipykernel_launcher.py:48: RuntimeWarning: overflow encountered in matmul\n",
      "/usr/local/lib/python3.7/site-packages/ipykernel_launcher.py:48: RuntimeWarning: invalid value encountered in matmul\n",
      "/usr/local/lib/python3.7/site-packages/ipykernel_launcher.py:50: RuntimeWarning: invalid value encountered in less_equal\n"
     ]
    },
    {
     "ename": "Exception",
     "evalue": "cannot reach eps (1e-08) after max_steps (5000). The last result: x = [nan nan nan]",
     "output_type": "error",
     "traceback": [
      "\u001b[0;31m---------------------------------------------------------------------------\u001b[0m",
      "\u001b[0;31mException\u001b[0m                                 Traceback (most recent call last)",
      "\u001b[0;32m<ipython-input-53-1c82c63562b5>\u001b[0m in \u001b[0;36m<module>\u001b[0;34m\u001b[0m\n\u001b[0;32m----> 1\u001b[0;31m \u001b[0mgauss_seidel_iter\u001b[0m\u001b[0;34m(\u001b[0m\u001b[0mA\u001b[0m\u001b[0;34m,\u001b[0m \u001b[0mb\u001b[0m\u001b[0;34m,\u001b[0m \u001b[0meps\u001b[0m\u001b[0;34m=\u001b[0m\u001b[0;36m1e-8\u001b[0m\u001b[0;34m,\u001b[0m \u001b[0mverbose\u001b[0m\u001b[0;34m=\u001b[0m\u001b[0;32mTrue\u001b[0m\u001b[0;34m)\u001b[0m\u001b[0;34m\u001b[0m\u001b[0;34m\u001b[0m\u001b[0m\n\u001b[0m",
      "\u001b[0;32m<ipython-input-45-6fde854fad32>\u001b[0m in \u001b[0;36mgauss_seidel_iter\u001b[0;34m(A, b, x0, eps, max_steps, verbose)\u001b[0m\n\u001b[1;32m     51\u001b[0m             \u001b[0;32mbreak\u001b[0m\u001b[0;34m\u001b[0m\u001b[0;34m\u001b[0m\u001b[0m\n\u001b[1;32m     52\u001b[0m     \u001b[0;32melse\u001b[0m\u001b[0;34m:\u001b[0m\u001b[0;34m\u001b[0m\u001b[0;34m\u001b[0m\u001b[0m\n\u001b[0;32m---> 53\u001b[0;31m         \u001b[0;32mraise\u001b[0m \u001b[0mException\u001b[0m\u001b[0;34m(\u001b[0m\u001b[0;34mf\"cannot reach eps ({eps}) after max_steps ({max_steps}). The last result: x = {x}\"\u001b[0m\u001b[0;34m)\u001b[0m\u001b[0;34m\u001b[0m\u001b[0;34m\u001b[0m\u001b[0m\n\u001b[0m\u001b[1;32m     54\u001b[0m \u001b[0;34m\u001b[0m\u001b[0m\n\u001b[1;32m     55\u001b[0m \u001b[0;34m\u001b[0m\u001b[0m\n",
      "\u001b[0;31mException\u001b[0m: cannot reach eps (1e-08) after max_steps (5000). The last result: x = [nan nan nan]"
     ]
    }
   ],
   "source": [
    "gauss_seidel_iter(A, b, eps=1e-8, verbose=True)"
   ]
  },
  {
   "cell_type": "markdown",
   "metadata": {},
   "source": [
    "做一些行变化之后就可以解了："
   ]
  },
  {
   "cell_type": "code",
   "execution_count": 56,
   "metadata": {},
   "outputs": [
    {
     "name": "stdout",
     "output_type": "stream",
     "text": [
      "gauss_seidel_iter get result x = [ 1.  2. -1.] after 12 iterations.\n"
     ]
    },
    {
     "data": {
      "text/plain": [
       "array([ 1.,  2., -1.])"
      ]
     },
     "execution_count": 56,
     "metadata": {},
     "output_type": "execute_result"
    }
   ],
   "source": [
    "A0 = [[5, 2, 1], \n",
    "      [2, 8, -3], \n",
    "      [1, -3, -6]]\n",
    "b0 = [8, 21, 1]\n",
    "gauss_seidel_iter(A1, b1, eps=1e-8, verbose=True)"
   ]
  },
  {
   "cell_type": "markdown",
   "metadata": {},
   "source": [
    "比较 J 和 GS 的收敛性："
   ]
  },
  {
   "cell_type": "code",
   "execution_count": 57,
   "metadata": {},
   "outputs": [],
   "source": [
    "A1 = [[1, 2, -2], [1, 1, 1], [2, 2, 1]]\n",
    "\n",
    "A2 = [[2, -1, 1], [2, 2, 2], [-1, -1, 2]]\n",
    "\n",
    "b = [1, 1, 1]"
   ]
  },
  {
   "cell_type": "code",
   "execution_count": 58,
   "metadata": {},
   "outputs": [
    {
     "data": {
      "text/plain": [
       "array([-3.,  3.,  1.])"
      ]
     },
     "execution_count": 58,
     "metadata": {},
     "output_type": "execute_result"
    }
   ],
   "source": [
    "np.linalg.solve(A1, b)"
   ]
  },
  {
   "cell_type": "code",
   "execution_count": 59,
   "metadata": {},
   "outputs": [
    {
     "data": {
      "text/plain": [
       "array([ 0.16666667, -0.16666667,  0.5       ])"
      ]
     },
     "execution_count": 59,
     "metadata": {},
     "output_type": "execute_result"
    }
   ],
   "source": [
    "np.linalg.solve(A2, b)"
   ]
  },
  {
   "cell_type": "code",
   "execution_count": 65,
   "metadata": {},
   "outputs": [
    {
     "name": "stdout",
     "output_type": "stream",
     "text": [
      "jacobi: jacobi_iter get result x = [-3.  3.  1.] after 3 iterations.\n",
      "gauss_seidel: "
     ]
    },
    {
     "name": "stderr",
     "output_type": "stream",
     "text": [
      "/usr/local/lib/python3.7/site-packages/ipykernel_launcher.py:48: RuntimeWarning: overflow encountered in matmul\n",
      "/usr/local/lib/python3.7/site-packages/ipykernel_launcher.py:48: RuntimeWarning: invalid value encountered in matmul\n",
      "/usr/local/lib/python3.7/site-packages/ipykernel_launcher.py:50: RuntimeWarning: invalid value encountered in less_equal\n"
     ]
    },
    {
     "ename": "Exception",
     "evalue": "cannot reach eps (1e-05) after max_steps (5000). The last result: x = [nan nan nan]",
     "output_type": "error",
     "traceback": [
      "\u001b[0;31m---------------------------------------------------------------------------\u001b[0m",
      "\u001b[0;31mException\u001b[0m                                 Traceback (most recent call last)",
      "\u001b[0;32m<ipython-input-65-a8fd089a47a0>\u001b[0m in \u001b[0;36m<module>\u001b[0;34m\u001b[0m\n\u001b[1;32m      2\u001b[0m \u001b[0mj\u001b[0m \u001b[0;34m=\u001b[0m \u001b[0mjacobi_iter\u001b[0m\u001b[0;34m(\u001b[0m\u001b[0mA1\u001b[0m\u001b[0;34m,\u001b[0m \u001b[0mb\u001b[0m\u001b[0;34m,\u001b[0m \u001b[0mverbose\u001b[0m\u001b[0;34m=\u001b[0m\u001b[0;32mTrue\u001b[0m\u001b[0;34m)\u001b[0m\u001b[0;34m\u001b[0m\u001b[0;34m\u001b[0m\u001b[0m\n\u001b[1;32m      3\u001b[0m \u001b[0mprint\u001b[0m\u001b[0;34m(\u001b[0m\u001b[0;34m'gauss_seidel: '\u001b[0m\u001b[0;34m,\u001b[0m \u001b[0mend\u001b[0m\u001b[0;34m=\u001b[0m\u001b[0;34m''\u001b[0m\u001b[0;34m)\u001b[0m\u001b[0;34m\u001b[0m\u001b[0;34m\u001b[0m\u001b[0m\n\u001b[0;32m----> 4\u001b[0;31m \u001b[0mg\u001b[0m \u001b[0;34m=\u001b[0m \u001b[0mgauss_seidel_iter\u001b[0m\u001b[0;34m(\u001b[0m\u001b[0mA1\u001b[0m\u001b[0;34m,\u001b[0m \u001b[0mb\u001b[0m\u001b[0;34m,\u001b[0m \u001b[0mverbose\u001b[0m\u001b[0;34m=\u001b[0m\u001b[0;32mTrue\u001b[0m\u001b[0;34m)\u001b[0m\u001b[0;34m\u001b[0m\u001b[0;34m\u001b[0m\u001b[0m\n\u001b[0m",
      "\u001b[0;32m<ipython-input-45-6fde854fad32>\u001b[0m in \u001b[0;36mgauss_seidel_iter\u001b[0;34m(A, b, x0, eps, max_steps, verbose)\u001b[0m\n\u001b[1;32m     51\u001b[0m             \u001b[0;32mbreak\u001b[0m\u001b[0;34m\u001b[0m\u001b[0;34m\u001b[0m\u001b[0m\n\u001b[1;32m     52\u001b[0m     \u001b[0;32melse\u001b[0m\u001b[0;34m:\u001b[0m\u001b[0;34m\u001b[0m\u001b[0;34m\u001b[0m\u001b[0m\n\u001b[0;32m---> 53\u001b[0;31m         \u001b[0;32mraise\u001b[0m \u001b[0mException\u001b[0m\u001b[0;34m(\u001b[0m\u001b[0;34mf\"cannot reach eps ({eps}) after max_steps ({max_steps}). The last result: x = {x}\"\u001b[0m\u001b[0;34m)\u001b[0m\u001b[0;34m\u001b[0m\u001b[0;34m\u001b[0m\u001b[0m\n\u001b[0m\u001b[1;32m     54\u001b[0m \u001b[0;34m\u001b[0m\u001b[0m\n\u001b[1;32m     55\u001b[0m \u001b[0;34m\u001b[0m\u001b[0m\n",
      "\u001b[0;31mException\u001b[0m: cannot reach eps (1e-05) after max_steps (5000). The last result: x = [nan nan nan]"
     ]
    }
   ],
   "source": [
    "print('jacobi: ', end='')\n",
    "j = jacobi_iter(A1, b, verbose=True)\n",
    "print('gauss_seidel: ', end='')\n",
    "g = gauss_seidel_iter(A1, b, verbose=True)"
   ]
  },
  {
   "cell_type": "code",
   "execution_count": 67,
   "metadata": {},
   "outputs": [
    {
     "name": "stdout",
     "output_type": "stream",
     "text": [
      "gauss_seidel: gauss_seidel_iter get result x = [ 0.16666863 -0.16666896  0.49999983] after 19 iterations.\n",
      "jacobi: "
     ]
    },
    {
     "ename": "Exception",
     "evalue": "cannot reach eps (1e-05) after max_steps (5000). The last result: x = [7.99615552e+241 1.08514261e+242 2.57044248e+241]",
     "output_type": "error",
     "traceback": [
      "\u001b[0;31m---------------------------------------------------------------------------\u001b[0m",
      "\u001b[0;31mException\u001b[0m                                 Traceback (most recent call last)",
      "\u001b[0;32m<ipython-input-67-15461764c0a3>\u001b[0m in \u001b[0;36m<module>\u001b[0;34m\u001b[0m\n\u001b[1;32m      2\u001b[0m \u001b[0mg\u001b[0m \u001b[0;34m=\u001b[0m \u001b[0mgauss_seidel_iter\u001b[0m\u001b[0;34m(\u001b[0m\u001b[0mA2\u001b[0m\u001b[0;34m,\u001b[0m \u001b[0mb\u001b[0m\u001b[0;34m,\u001b[0m \u001b[0mverbose\u001b[0m\u001b[0;34m=\u001b[0m\u001b[0;32mTrue\u001b[0m\u001b[0;34m)\u001b[0m\u001b[0;34m\u001b[0m\u001b[0;34m\u001b[0m\u001b[0m\n\u001b[1;32m      3\u001b[0m \u001b[0mprint\u001b[0m\u001b[0;34m(\u001b[0m\u001b[0;34m'jacobi: '\u001b[0m\u001b[0;34m,\u001b[0m \u001b[0mend\u001b[0m\u001b[0;34m=\u001b[0m\u001b[0;34m''\u001b[0m\u001b[0;34m)\u001b[0m\u001b[0;34m\u001b[0m\u001b[0;34m\u001b[0m\u001b[0m\n\u001b[0;32m----> 4\u001b[0;31m \u001b[0mj\u001b[0m \u001b[0;34m=\u001b[0m \u001b[0mjacobi_iter\u001b[0m\u001b[0;34m(\u001b[0m\u001b[0mA2\u001b[0m\u001b[0;34m,\u001b[0m \u001b[0mb\u001b[0m\u001b[0;34m,\u001b[0m \u001b[0mverbose\u001b[0m\u001b[0;34m=\u001b[0m\u001b[0;32mTrue\u001b[0m\u001b[0;34m)\u001b[0m\u001b[0;34m\u001b[0m\u001b[0;34m\u001b[0m\u001b[0m\n\u001b[0m",
      "\u001b[0;32m<ipython-input-4-d9fdc2d22bab>\u001b[0m in \u001b[0;36mjacobi_iter\u001b[0;34m(A, b, x0, eps, max_steps, verbose)\u001b[0m\n\u001b[1;32m     52\u001b[0m             \u001b[0;32mbreak\u001b[0m\u001b[0;34m\u001b[0m\u001b[0;34m\u001b[0m\u001b[0m\n\u001b[1;32m     53\u001b[0m     \u001b[0;32melse\u001b[0m\u001b[0;34m:\u001b[0m\u001b[0;34m\u001b[0m\u001b[0;34m\u001b[0m\u001b[0m\n\u001b[0;32m---> 54\u001b[0;31m         \u001b[0;32mraise\u001b[0m \u001b[0mException\u001b[0m\u001b[0;34m(\u001b[0m\u001b[0;34mf\"cannot reach eps ({eps}) after max_steps ({max_steps}). The last result: x = {x}\"\u001b[0m\u001b[0;34m)\u001b[0m\u001b[0;34m\u001b[0m\u001b[0;34m\u001b[0m\u001b[0m\n\u001b[0m\u001b[1;32m     55\u001b[0m \u001b[0;34m\u001b[0m\u001b[0m\n\u001b[1;32m     56\u001b[0m     \u001b[0;32mif\u001b[0m \u001b[0mverbose\u001b[0m\u001b[0;34m:\u001b[0m\u001b[0;34m\u001b[0m\u001b[0;34m\u001b[0m\u001b[0m\n",
      "\u001b[0;31mException\u001b[0m: cannot reach eps (1e-05) after max_steps (5000). The last result: x = [7.99615552e+241 1.08514261e+242 2.57044248e+241]"
     ]
    }
   ],
   "source": [
    "print('gauss_seidel: ', end='')\n",
    "# g = gauss_seidel_iter(A2, b, verbose=True)\n",
    "print('jacobi: ', end='')\n",
    "j = jacobi_iter(A2, b, verbose=True)"
   ]
  },
  {
   "cell_type": "code",
   "execution_count": null,
   "metadata": {},
   "outputs": [],
   "source": []
  }
 ],
 "metadata": {
  "kernelspec": {
   "display_name": "Python 3",
   "language": "python",
   "name": "python3"
  },
  "language_info": {
   "codemirror_mode": {
    "name": "ipython",
    "version": 3
   },
   "file_extension": ".py",
   "mimetype": "text/x-python",
   "name": "python",
   "nbconvert_exporter": "python",
   "pygments_lexer": "ipython3",
   "version": "3.7.6"
  }
 },
 "nbformat": 4,
 "nbformat_minor": 4
}
