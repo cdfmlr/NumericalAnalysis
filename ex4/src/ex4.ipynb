{
 "cells": [
  {
   "cell_type": "markdown",
   "metadata": {},
   "source": [
    "# 数值积分"
   ]
  },
  {
   "cell_type": "code",
   "execution_count": 1,
   "metadata": {},
   "outputs": [],
   "source": [
    "from sympy import *"
   ]
  },
  {
   "cell_type": "markdown",
   "metadata": {},
   "source": [
    "## Newton-Cotes求积公式\n",
    "\n",
    "- trapezium & simpson"
   ]
  },
  {
   "cell_type": "code",
   "execution_count": 2,
   "metadata": {},
   "outputs": [],
   "source": [
    "def trapezium_integral(f, a, b):\n",
    "    \"\"\"梯形求积公式\n",
    "    \"\"\"\n",
    "    return (b - a) * (f(a) + f(b)) / 2\n",
    "\n",
    "\n",
    "def simpson_integral(f, a, b):\n",
    "    \"\"\"辛普森求积公式\n",
    "    \"\"\"\n",
    "    return (b - a) * (f(a) + 4 * f((a + b) / 2) + f(b)) / 6"
   ]
  },
  {
   "cell_type": "markdown",
   "metadata": {},
   "source": [
    "- Newton-Cotes"
   ]
  },
  {
   "cell_type": "code",
   "execution_count": 3,
   "metadata": {},
   "outputs": [],
   "source": [
    "def costes_coefficient(n, k):\n",
    "    \"\"\"求柯特斯系数\n",
    "    \"\"\"\n",
    "    ckn = ((-1) ** (n - k))\n",
    "    ckn /= n * factorial(k) * factorial(n - k)\n",
    "\n",
    "    h = 1\n",
    "    t = Symbol('t')\n",
    "    for j in range(n+1):\n",
    "        if j != k:\n",
    "            h *= (t - j)\n",
    "\n",
    "    ckn *= integrate(h, (t, 0, n))\n",
    "\n",
    "    return ckn"
   ]
  },
  {
   "cell_type": "markdown",
   "metadata": {},
   "source": [
    "打出一张表测试科特斯系数："
   ]
  },
  {
   "cell_type": "code",
   "execution_count": 4,
   "metadata": {},
   "outputs": [
    {
     "name": "stdout",
     "output_type": "stream",
     "text": [
      "1/2\t 1/2\t \n",
      "1/6\t 2/3\t 1/6\t \n",
      "1/8\t 3/8\t 3/8\t 1/8\t \n",
      "7/90\t 16/45\t 2/15\t 16/45\t 7/90\t \n",
      "19/288\t 25/96\t 25/144\t 25/144\t 25/96\t 19/288\t \n",
      "41/840\t 9/35\t 9/280\t 34/105\t 9/280\t 9/35\t 41/840\t \n"
     ]
    }
   ],
   "source": [
    "for i in range(6):\n",
    "    for j in range(i+2):\n",
    "        print(costes_coefficient(i+1, j), end= \"\\t \")\n",
    "    print()"
   ]
  },
  {
   "cell_type": "code",
   "execution_count": 5,
   "metadata": {},
   "outputs": [],
   "source": [
    "def newton_cotes_integral(f, a, b, n):\n",
    "    \"\"\"牛顿-科特斯求积公式\n",
    "    \"\"\"\n",
    "    step = (b - a) / n\n",
    "    xs = [a + i * step for i in range(n+1)]\n",
    "    return (b - a) * sum([\n",
    "        costes_coefficient(n, k) * f(xs[k]) \n",
    "        for k in range(0, n+1)\n",
    "    ])"
   ]
  },
  {
   "cell_type": "markdown",
   "metadata": {},
   "source": [
    "牛顿-科特斯求积公式测试："
   ]
  },
  {
   "cell_type": "code",
   "execution_count": 6,
   "metadata": {},
   "outputs": [
    {
     "name": "stdout",
     "output_type": "stream",
     "text": [
      "True\n"
     ]
    }
   ],
   "source": [
    "r = newton_cotes_integral(sin, 0, pi, 10)\n",
    "\n",
    "x = Symbol('x')\n",
    "print(abs(r - integrate(sin(x), (x, 0, pi))) < 0.00001)"
   ]
  },
  {
   "cell_type": "markdown",
   "metadata": {},
   "source": [
    "## 复化求积公式\n",
    "\n"
   ]
  },
  {
   "cell_type": "markdown",
   "metadata": {},
   "source": [
    "- 复化梯形公式"
   ]
  },
  {
   "cell_type": "code",
   "execution_count": 7,
   "metadata": {},
   "outputs": [],
   "source": [
    "def composite_trapezium_integral(f, a, b, epsilon, max_iter=10000):\n",
    "    \"\"\" 复化梯形公式\n",
    "\n",
    "    Args:\n",
    "        f: 要求积的函数\n",
    "        a, b: 求积区间\n",
    "        epsilon: 目标精度，达到则停止，返回积分值\n",
    "        max_iter: 最大迭代次数，超出这个次数迭代不到目标精度，则 raise 一个 RuntimeError\n",
    "\n",
    "    Returns:\n",
    "        i, iter\n",
    "        i: 最终得到的积分值\n",
    "        iter_times: 迭代次数\n",
    "\n",
    "    Raises:\n",
    "        RuntimeError: 无法在 max_iter 步内迭代到目标精度\n",
    "    \"\"\"\n",
    "    m = 1\n",
    "    h = b - a\n",
    "    t = h * (f(a) + f(b)) / 2\n",
    "\n",
    "    _iter_times = 0\n",
    "    \n",
    "    t_next = 0\n",
    "    for _iter_times in range(int(max_iter)):\n",
    "        h /= 2\n",
    "        s = sum([f(a + (2 * k - 1) * h) for k in range(1, m+1)])\n",
    "        t_next = t / 2 + h * s\n",
    "        m <<= 1\n",
    "        if abs(t_next - t) <= epsilon:\n",
    "            break\n",
    "        t = t_next\n",
    "    else:\n",
    "        raise RuntimeError('无法在 max_iter 步内迭代到目标精度')\n",
    "\n",
    "    return t_next, _iter_times+1"
   ]
  },
  {
   "cell_type": "markdown",
   "metadata": {},
   "source": [
    "测试复化梯形公式："
   ]
  },
  {
   "cell_type": "code",
   "execution_count": 8,
   "metadata": {},
   "outputs": [
    {
     "name": "stdout",
     "output_type": "stream",
     "text": [
      "result_composite_trapezium_integral = (0.333343505859375, 7), actual: 1/3\n"
     ]
    }
   ],
   "source": [
    "def f(x):\n",
    "    return x ** 2\n",
    "\n",
    "x = Symbol('x')\n",
    "a = integrate(f(x), (x, 0, 1))\n",
    "\n",
    "t = composite_trapezium_integral(f, 0, 1, 0.0001)\n",
    "print(f\"result_composite_trapezium_integral = {t}, actual: {a}\")"
   ]
  },
  {
   "cell_type": "markdown",
   "metadata": {},
   "source": [
    "- 复化 Simpson 公式"
   ]
  },
  {
   "cell_type": "code",
   "execution_count": 9,
   "metadata": {},
   "outputs": [],
   "source": [
    "def composite_simpson_integral(f, a, b, epsilon, max_iter=1e6):\n",
    "    \"\"\"复化 Simpson 公式\n",
    "\n",
    "    Args:\n",
    "        f: 要求积的函数\n",
    "        a, b: 求积区间\n",
    "        epsilon: 目标精度，达到则停止，返回积分值\n",
    "        max_iter: 最大迭代次数，超出这个次数迭代不到目标精度，则 raise 一个 RuntimeError\n",
    "\n",
    "    Returns:\n",
    "        i, iter\n",
    "        i: 最终得到的积分值\n",
    "        iter_times: 迭代次数\n",
    "\n",
    "    Raises:\n",
    "        RuntimeError: 无法在 max_iter 步内迭代到目标精度\n",
    "    \"\"\"\n",
    "    m = 1\n",
    "    h = (b - a) / 2\n",
    "    i = h * (f(a) + 4 * f((a+b) / 2) + f(b)) / 3\n",
    "    \n",
    "    _iter_times = 0\n",
    "\n",
    "    i_next = 0\n",
    "    for _iter_times in range(int(max_iter)):\n",
    "        h /= 2\n",
    "\n",
    "        s0 = sum([f(a + (2 * k - 1) * h) for k in range(1, 2 * m + 1)])\n",
    "        s1 = sum([f(a + (4 * k - 2) * h) for k in range(1, m + 1)])\n",
    "        i_next = i / 2 + h * (4 * s0 - 2 * s1) / 3\n",
    "        \n",
    "        m <<= 1\n",
    "        if abs(i_next - i) <= epsilon:\n",
    "            break\n",
    "        i = i_next\n",
    "    else:\n",
    "        raise RuntimeError('无法在 max_iter 步内迭代到目标精度')\n",
    "\n",
    "    return i_next, _iter_times+1"
   ]
  },
  {
   "cell_type": "code",
   "execution_count": 10,
   "metadata": {},
   "outputs": [
    {
     "name": "stdout",
     "output_type": "stream",
     "text": [
      "result_composite_simpson_integral = 0.0416666666666667*sin(1) + 0.174637027764799, actual: 3/4 - cos(1)\n",
      "diff < 0.0001: True\n"
     ]
    }
   ],
   "source": [
    "def f(x):\n",
    "    return 3 * x ** 3 - 2 * x + sin(x)\n",
    "\n",
    "x = Symbol('x')\n",
    "a = integrate(f(x), (x, 0, 1))\n",
    "\n",
    "t, times = composite_simpson_integral(f, 0, 1, 0.0001)\n",
    "print(f\"result_composite_simpson_integral = {t}, actual: {a}\\ndiff < 0.0001: {abs(t-a) < 0.0001}\")"
   ]
  },
  {
   "cell_type": "markdown",
   "metadata": {},
   "source": [
    "龙贝格算法"
   ]
  },
  {
   "cell_type": "code",
   "execution_count": 11,
   "metadata": {},
   "outputs": [],
   "source": [
    "def romberg_integral(f, a, b, epsilon, max_iter=1e6):\n",
    "    \"\"\"Romberg 积分\n",
    "\n",
    "    Args:\n",
    "        f: 要求积的函数\n",
    "        a, b: 求积区间\n",
    "        epsilon: 目标精度，达到则停止，返回积分值\n",
    "        max_iter: 最大迭代次数，超出这个次数迭代不到目标精度，则 raise 一个 RuntimeError\n",
    "\n",
    "    Returns:\n",
    "        result, T, iter\n",
    "        \n",
    "        result: 最终得到的积分值\n",
    "        T: 计算过程表\n",
    "        iter_times: 迭代次数\n",
    "\n",
    "    Raises:\n",
    "        RuntimeError: 无法在 max_iter 步内迭代到目标精度\n",
    "    \"\"\"\n",
    "    m = 0\n",
    "\n",
    "    T = [[None] * 4]\n",
    "    T[0][0] = (b - a) * (f(a) + f(b)) / 2\n",
    "\n",
    "    for m in range(1, int(max_iter)):\n",
    "        T.append([None] * 4)\n",
    "        \n",
    "        h = (b - a) / (2 ** m)\n",
    "        \n",
    "        _s = sum((f(a + (2 * k - 1) * h) for k in range(1, 1 + 2**(m-1))))\n",
    "        T[m][0] = T[m-1][0] / 2 + h * _s\n",
    "        \n",
    "        _t = 4      # 4 ** 1\n",
    "        T[m-1][1] = (_t * T[m][0] - T[m-1][0]) / (_t - 1)\n",
    "\n",
    "        if m > 1:\n",
    "            _t *= 4  # 4 ** 2\n",
    "            T[m-2][2] = (_t * T[m-1][1] - T[m-2][1]) / (_t - 1)\n",
    "        if m > 2:\n",
    "            _t *= 4  # 4 ** 3\n",
    "            T[m-3][3] = (_t * T[m-2][2] - T[m-3][2]) / (_t - 1)\n",
    "        \n",
    "        if (m > 3) and (abs(T[m-3][3] - T[m-4][3]) < epsilon):\n",
    "            break\n",
    "        # End for\n",
    "    else:\n",
    "        raise RuntimeError('无法在 max_iter 步内迭代到目标精度')\n",
    "\n",
    "    return T[m-3][3], T, m"
   ]
  },
  {
   "cell_type": "code",
   "execution_count": 12,
   "metadata": {},
   "outputs": [
    {
     "name": "stdout",
     "output_type": "stream",
     "text": [
      "result_romberg_integral = 31*sin(10)/1620 + 31*sin(2)/1620 + 7392.4159348371, actual: cos(2) - cos(10) + 7392\n",
      "diff < 0.0001: True\n",
      "7 1216\n",
      "[[4*sin(10) + 4*sin(2) + 12000, 4*sin(10)/3 + 4*sin(2)/3 + 7390.50978400961, 28*sin(10)/45 + 28*sin(2)/45 + 7392.36344871677, 124*sin(10)/405 + 124*sin(2)/405 + 7392.30668995305], [2*sin(10) + 2*sin(2) + 8542.8823380072, 2*sin(10)/3 + 2*sin(2)/3 + 7392.24759467258, 14*sin(10)/45 + 14*sin(2)/45 + 7392.30757680873, 62*sin(10)/405 + 62*sin(2)/405 + 7392.36701663887], [sin(10) + sin(2) + 7679.90628050623, sin(10)/3 + sin(2)/3 + 7392.30382792522, 7*sin(10)/45 + 7*sin(2)/45 + 7392.36608789152, 31*sin(10)/405 + 31*sin(2)/405 + 7392.39496529595], [sin(10)/2 + sin(2)/2 + 7464.20444107047, sin(10)/6 + sin(2)/6 + 7392.36219664363, 7*sin(10)/90 + 7*sin(2)/90 + 7392.39451408651, 31*sin(10)/810 + 31*sin(2)/810 + 7392.40894498176], [sin(10)/4 + sin(2)/4 + 7410.32275775034, sin(10)/12 + sin(2)/12 + 7392.39249424633, 7*sin(10)/180 + 7*sin(2)/180 + 7392.40871949902, 31*sin(10)/1620 + 31*sin(2)/1620 + 7392.4159348371], [sin(10)/8 + sin(2)/8 + 7396.87506012233, sin(10)/24 + sin(2)/24 + 7392.40770542073, 7*sin(10)/360 + 7*sin(2)/360 + 7392.41582209745, None], [sin(10)/16 + sin(2)/16 + 7393.52454409613, sin(10)/48 + sin(2)/48 + 7392.41531480515, None, None], [sin(10)/32 + sin(2)/32 + 7392.6926221279, None, None, None]]\n"
     ]
    }
   ],
   "source": [
    "import math\n",
    "\n",
    "def f(x):\n",
    "    return 3 * x ** 3 - 2 * x + sin(x)\n",
    "\n",
    "x = Symbol('x')\n",
    "a = integrate(f(x), (x, 2, 10))\n",
    "\n",
    "t, T, iter_times = romberg_integral(f, 2, 10, 1e-10)\n",
    "print(f\"result_romberg_integral = {t}, actual: {a}\\ndiff < 0.0001: {abs(t-a) < 0.0001}\")\n",
    "print(iter_times, len(str(T)))\n",
    "print(T)"
   ]
  },
  {
   "cell_type": "code",
   "execution_count": 13,
   "metadata": {},
   "outputs": [],
   "source": [
    "def romberg_integral_sw(f, a, b, epsilon, max_iter=1e6):\n",
    "    \"\"\"Romberg 积分\n",
    "\n",
    "    用滑动窗口改写了 romberg_integral。\n",
    "    在计算的过程中，不断删除不再需要的值，\n",
    "    对于需要多次迭代的问题，可以有效节省内存。\n",
    "\n",
    "    Args:\n",
    "        f: 要求积的函数\n",
    "        a, b: 求积区间\n",
    "        epsilon: 目标精度，达到则停止，返回积分值\n",
    "        max_iter: 最大迭代次数，超出这个次数迭代不到目标精度，则 raise 一个 RuntimeError\n",
    "\n",
    "    Returns:\n",
    "        result, T, iter\n",
    "\n",
    "        result: 最终得到的积分值\n",
    "        T: 计算过程表（只有最后的 m-4 到 m 步）\n",
    "        iter_times: 迭代次数\n",
    "\n",
    "    Raises:\n",
    "        RuntimeError: 无法在 max_iter 步内迭代到目标精度\n",
    "    \"\"\"\n",
    "    m = 0\n",
    "\n",
    "    T = [[None] * 4]\n",
    "    T[0][0] = (b - a) * (f(a) + f(b)) / 2\n",
    "\n",
    "    for m in range(1, int(max_iter)):\n",
    "        T.append([None] * 4)\n",
    "        # 下面的索引 T[-1] 即 T_m, T[-2] 即 T_{m-1}, ...\n",
    "        \n",
    "        h = (b - a) / (2 ** m)\n",
    "        \n",
    "        _s = sum((f(a + (2 * k - 1) * h) for k in range(1, 1 + 2**(m-1))))\n",
    "        T[-1][0] = T[-2][0] / 2 + h * _s\n",
    "        \n",
    "        _t = 4      # 4 ** 1\n",
    "        T[-2][1] = (_t * T[-1][0] - T[-2][0]) / (_t - 1)\n",
    "\n",
    "        if m > 1:\n",
    "            _t *= 4  # 4 ** 2\n",
    "            T[-3][2] = (_t * T[-2][1] - T[-3][1]) / (_t - 1)\n",
    "        if m > 2:\n",
    "            _t *= 4  # 4 ** 3\n",
    "            T[-4][3] = (_t * T[-3][2] - T[-4][2]) / (_t - 1)\n",
    "        \n",
    "        if (m > 3) and (abs(T[-4][3] - T[-5][3]) < epsilon):\n",
    "            break\n",
    "\n",
    "        if (m > 4):\n",
    "            T = T[1:] # 清除不需要的\n",
    "        # End for\n",
    "    else:\n",
    "        raise RuntimeError('无法在 max_iter 步内迭代到目标精度')\n",
    "\n",
    "    return T[-4][3], T, m"
   ]
  },
  {
   "cell_type": "code",
   "execution_count": 14,
   "metadata": {},
   "outputs": [
    {
     "name": "stdout",
     "output_type": "stream",
     "text": [
      "result_romberg_integral_sw = 31*sin(10)/1620 + 31*sin(2)/1620 + 7392.4159348371, actual: cos(2) - cos(10) + 7392\n",
      "diff < 0.0001: True\n",
      "7 850\n",
      "[[sin(10) + sin(2) + 7679.90628050623, sin(10)/3 + sin(2)/3 + 7392.30382792522, 7*sin(10)/45 + 7*sin(2)/45 + 7392.36608789152, 31*sin(10)/405 + 31*sin(2)/405 + 7392.39496529595], [sin(10)/2 + sin(2)/2 + 7464.20444107047, sin(10)/6 + sin(2)/6 + 7392.36219664363, 7*sin(10)/90 + 7*sin(2)/90 + 7392.39451408651, 31*sin(10)/810 + 31*sin(2)/810 + 7392.40894498176], [sin(10)/4 + sin(2)/4 + 7410.32275775034, sin(10)/12 + sin(2)/12 + 7392.39249424633, 7*sin(10)/180 + 7*sin(2)/180 + 7392.40871949902, 31*sin(10)/1620 + 31*sin(2)/1620 + 7392.4159348371], [sin(10)/8 + sin(2)/8 + 7396.87506012233, sin(10)/24 + sin(2)/24 + 7392.40770542073, 7*sin(10)/360 + 7*sin(2)/360 + 7392.41582209745, None], [sin(10)/16 + sin(2)/16 + 7393.52454409613, sin(10)/48 + sin(2)/48 + 7392.41531480515, None, None], [sin(10)/32 + sin(2)/32 + 7392.6926221279, None, None, None]]\n"
     ]
    }
   ],
   "source": [
    "import math\n",
    "\n",
    "def f(x):\n",
    "    return 3 * x ** 3 - 2 * x + sin(x)\n",
    "\n",
    "x = Symbol('x')\n",
    "a = integrate(f(x), (x, 2, 10))\n",
    "\n",
    "t, T, iter_times = romberg_integral_sw(f, 2, 10, 1e-10)\n",
    "print(f\"result_romberg_integral_sw = {t}, actual: {a}\\ndiff < 0.0001: {abs(t-a) < 0.0001}\")\n",
    "print(iter_times, len(str(T)))\n",
    "print(T)"
   ]
  },
  {
   "cell_type": "markdown",
   "metadata": {},
   "source": [
    "题目 4.4 实验内容和步骤\n",
    "\n",
    "$$\n",
    "I_1 = \\int_0^1 e^{-x^2} dx\n",
    "$$"
   ]
  },
  {
   "cell_type": "code",
   "execution_count": 15,
   "metadata": {},
   "outputs": [
    {
     "name": "stdout",
     "output_type": "stream",
     "text": [
      "integral exp(-x ** 2) dx from 0 to 1\n",
      "\n",
      "actual result (by sympy): sqrt(pi)*erf(1)/2 = 0.746824132812427\n",
      "\n",
      "result_trapezium=0.6839397205857212\n",
      "result_simpson=0.7471804289095104\n",
      "result_composite_trapezium=0.7468238989209475, times_composite_trapezium=9\n",
      "result_composite_simpson=0.7468241406069852, times_composite_simpson=4\n",
      "result_romberg=0.7468241326473878, times_romberg=4\n",
      "\n"
     ]
    }
   ],
   "source": [
    "import math\n",
    "\n",
    "def f1(x):\n",
    "    if not isinstance(x, float):\n",
    "        x = float(x)\n",
    "    return math.exp(-x ** 2)\n",
    "\n",
    "result_trapezium = trapezium_integral(f1, 0, 1)\n",
    "result_simpson = simpson_integral(f1, 0, 1)\n",
    "result_composite_simpson, times_composite_simpson = composite_simpson_integral(f1, 0, 1, 1e-6)\n",
    "result_composite_trapezium, times_composite_trapezium = composite_trapezium_integral(f1, 0, 1, 1e-6)\n",
    "result_romberg, _, times_romberg = romberg_integral(f1, 0, 1, 1e-6)\n",
    "\n",
    "actual = integrate(exp(-Symbol('x') ** 2), (Symbol('x'), 0, 1))\n",
    "\n",
    "print(f'''integral exp(-x ** 2) dx from 0 to 1\n",
    "\n",
    "actual result (by sympy): {actual} = {actual.evalf()}\n",
    "\n",
    "result_trapezium={result_trapezium}\n",
    "result_simpson={result_simpson}\n",
    "result_composite_trapezium={result_composite_trapezium}, times_composite_trapezium={times_composite_trapezium}\n",
    "result_composite_simpson={result_composite_simpson}, times_composite_simpson={times_composite_simpson}\n",
    "result_romberg={result_romberg}, times_romberg={times_romberg}\n",
    "''')"
   ]
  },
  {
   "cell_type": "markdown",
   "metadata": {},
   "source": [
    "$$\n",
    "I_2 = \\int_0^1 \\frac{\\sin(x)}{x} dx\n",
    "$$"
   ]
  },
  {
   "cell_type": "code",
   "execution_count": 16,
   "metadata": {},
   "outputs": [
    {
     "name": "stdout",
     "output_type": "stream",
     "text": [
      "integral sin(x) / x dx from 0 to 1\n",
      "\n",
      "actual result (by sympy): Si(1) = 0.946083070367183\n",
      "\n",
      "result_trapezium=0.9207354924039483\n",
      "result_simpson=0.9461458822735868\n",
      "result_composite_trapezium=0.9460829746282349, times_composite_trapezium=9\n",
      "result_composite_simpson=0.9460830853849476, times_composite_simpson=3\n",
      "result_romberg=0.9460830703672595, times_romberg=4\n",
      "\n"
     ]
    }
   ],
   "source": [
    "def f2(x):\n",
    "    if not isinstance(x, float):\n",
    "        x = float(x)\n",
    "    return math.sin(x) / x\n",
    "\n",
    "result_trapezium = trapezium_integral(f2, 1e-32, 1)\n",
    "result_simpson = simpson_integral(f2, 1e-32, 1)\n",
    "result_composite_simpson, times_composite_simpson = composite_simpson_integral(f2, 1e-32, 1, 1e-6)\n",
    "result_composite_trapezium, times_composite_trapezium = composite_trapezium_integral(f2, 1e-32, 1, 1e-6)\n",
    "result_romberg, _, times_romberg = romberg_integral(f2, 1e-32, 1, 1e-6)\n",
    "\n",
    "actual = integrate(sin(Symbol('x')) / Symbol('x'), (Symbol('x'), 0, 1))\n",
    "\n",
    "print(f'''integral sin(x) / x dx from 0 to 1\n",
    "\n",
    "actual result (by sympy): {actual} = {actual.evalf()}\n",
    "\n",
    "result_trapezium={result_trapezium}\n",
    "result_simpson={result_simpson}\n",
    "result_composite_trapezium={result_composite_trapezium}, times_composite_trapezium={times_composite_trapezium}\n",
    "result_composite_simpson={result_composite_simpson}, times_composite_simpson={times_composite_simpson}\n",
    "result_romberg={result_romberg}, times_romberg={times_romberg}\n",
    "''')"
   ]
  },
  {
   "cell_type": "code",
   "execution_count": 17,
   "metadata": {},
   "outputs": [],
   "source": [
    "def adaptsim(f, a, b, eps=1e-8, max_iter=10000):\n",
    "    \"\"\"自适应 Simpson 求积\n",
    "    \n",
    "    P.S. 这个函数名来自 Gander, W. and W. Gautschi, “Adaptive\n",
    "         Quadrature – Revisited,” BIT, Vol. 40, 2000, pp. 84-101.\n",
    "         该文档可以在 https://people.inf.ethz.ch/gander/ 找到。\n",
    "         但该函数的实现并没有使用此文中的递归方法。\n",
    "\n",
    "    Args:\n",
    "        f: 要求积的函数\n",
    "        a, b: 求积区间\n",
    "        eps: 目标精度，达到则停止，返回积分值\n",
    "        max_iter: 最大迭代次数，超出这个次数迭代不到目标精度，则 raise 一个 Exception\n",
    "\n",
    "    Returns: (I, m, p)\n",
    "        I: 积分的近似值\n",
    "        m: 分层数\n",
    "        p: 分点\n",
    "\n",
    "    Raises:\n",
    "        Exception: 无法在 max_iter 步内迭代到目标精度\n",
    "    \"\"\"\n",
    "    p = [a, b]  # 分点\n",
    "    p0 = p\n",
    "    ep = [eps]\n",
    "    m = 0\n",
    "    q = 0\n",
    "    I = 0\n",
    "    \n",
    "    for _iter_times in range(int(max_iter)):\n",
    "        n1 = len(ep)\n",
    "        n = len(p0)\n",
    "        \n",
    "        if n <= 1:\n",
    "            break\n",
    "        \n",
    "        h = p0[1] - p0[0]\n",
    "        s0 = h /  6 * ( f(p0[0]) + 4 * f(p0[0] + h/2) + f(p0[0] + h  ) )\n",
    "        s1 = h / 12 * ( f(p0[0]) + 4 * f(p0[0] + h/4) + f(p0[0] + h/2) )\n",
    "        s2 = h / 12 * ( f(p0[0] + h/2) + 4 * f(p0[0] + 3*h/4) + f(p0[0] + h) )\n",
    "        \n",
    "        if abs(s0 - s1 - s2) <= 15 * ep[0]:\n",
    "            I += s1 + s2\n",
    "            p0 = p0[1:]\n",
    "            \n",
    "            if n1 >= 2:\n",
    "                ep = ep[1:]\n",
    "            \n",
    "            q += 1\n",
    "        else:\n",
    "            m += 1\n",
    "            p0 = [p0[0], p0[0] + h/2] + p0[1:]\n",
    "            \n",
    "            if n1 == 1:\n",
    "                ep = [ep[0]/2, ep[0]/2]\n",
    "            else:\n",
    "                ep = [ep[0]/2, ep[1]/2] + ep[1:]\n",
    "            \n",
    "            if q == 0:\n",
    "                p = p0\n",
    "            else:\n",
    "                p = p[:q] + p0\n",
    "        \n",
    "    else:\n",
    "        raise Exception('无法在 max_iter 步内迭代到目标精度')\n",
    "\n",
    "    return I, m, p"
   ]
  },
  {
   "cell_type": "code",
   "execution_count": 18,
   "metadata": {},
   "outputs": [
    {
     "data": {
      "image/png": "[encoded data removed]",
      "text/plain": [
       "<Figure size 432x288 with 1 Axes>"
      ]
     },
     "metadata": {
      "needs_background": "light"
     },
     "output_type": "display_data"
    }
   ],
   "source": [
    "import math\n",
    "import numpy as np\n",
    "\n",
    "def f(x):\n",
    "    if not isinstance(x, float):\n",
    "        x = float(x)\n",
    "    return math.exp(-x ** 2)\n",
    "\n",
    "# actual result (by sympy): sqrt(pi)*erf(1)/2 = 0.746824132812427\n",
    "\n",
    "I, m, p = adaptsim(f, 0, 1, eps=1e-9)\n",
    "\n",
    "# 画图\n",
    "import matplotlib.pyplot as plt\n",
    "\n",
    "xf = np.linspace(0, 1)\n",
    "yf = [f(x) for x in xf]\n",
    "\n",
    "yp = [f(x) for x in p]\n",
    "\n",
    "plt.plot(xf, yf, 'r-', label='f=exp(-x ** 2)')\n",
    "plt.plot(p, yp, 'bo', label='adaptive points')\n",
    "plt.legend()\n",
    "plt.xlim(0, 1)\n",
    "plt.show()"
   ]
  },
  {
   "cell_type": "code",
   "execution_count": 19,
   "metadata": {},
   "outputs": [
    {
     "data": {
      "image/png": "[encoded data removed]",
      "text/plain": [
       "<Figure size 432x288 with 1 Axes>"
      ]
     },
     "metadata": {
      "needs_background": "light"
     },
     "output_type": "display_data"
    }
   ],
   "source": [
    "import math\n",
    "\n",
    "def f(x):\n",
    "    if not isinstance(x, float):\n",
    "        x = float(x)\n",
    "    return math.sin(x) / x\n",
    "\n",
    "# actual result (by sympy): Si(1) = 0.946083070367183\n",
    "\n",
    "I, m, p = adaptsim(f, 1e-64, 1)\n",
    "\n",
    "# 画图\n",
    "import matplotlib.pyplot as plt\n",
    "\n",
    "xf = np.linspace(1e-64, 1)\n",
    "yf = [f(x) for x in xf]\n",
    "\n",
    "yp = [f(x) for x in p]\n",
    "\n",
    "plt.plot(xf, yf, 'r-', label='f=sin(x) / x')\n",
    "plt.plot(p, yp, 'bo', label='adaptive points')\n",
    "plt.legend()\n",
    "plt.xlim(0, 1)\n",
    "plt.show()"
   ]
  },
  {
   "cell_type": "code",
   "execution_count": 20,
   "metadata": {},
   "outputs": [
    {
     "name": "stdout",
     "output_type": "stream",
     "text": [
      "I=-1.4260192969841916\n"
     ]
    },
    {
     "data": {
      "image/png": "[encoded data removed]",
      "text/plain": [
       "<Figure size 432x288 with 1 Axes>"
      ]
     },
     "metadata": {
      "needs_background": "light"
     },
     "output_type": "display_data"
    }
   ],
   "source": [
    "import math\n",
    "import numpy as np\n",
    "import matplotlib.pyplot as plt\n",
    "\n",
    "def f(x):\n",
    "    return (100 / x**2) * math.sin(10 / x)\n",
    "\n",
    "I, m, p = adaptsim(f, 1, 3, eps=1e-4)\n",
    "print(f'I={I}')\n",
    "\n",
    "xf = np.linspace(1, 3)\n",
    "yf = [f(x) for x in xf]\n",
    "\n",
    "yp = [f(x) for x in p]\n",
    "\n",
    "plt.plot(xf, yf, 'r-', label='f=100 / x**2 * sin(10 / x)')\n",
    "plt.plot(p, yp, 'bo', label='adaptive points')\n",
    "plt.legend()\n",
    "plt.xlim(1, 3)\n",
    "plt.show()"
   ]
  },
  {
   "cell_type": "code",
   "execution_count": 21,
   "metadata": {},
   "outputs": [
    {
     "data": {
      "image/png": "[encoded data removed]",
      "text/plain": [
       "<Figure size 432x288 with 1 Axes>"
      ]
     },
     "metadata": {
      "needs_background": "light"
     },
     "output_type": "display_data"
    }
   ],
   "source": [
    "import math\n",
    "import matplotlib.pyplot as plt\n",
    "import matplotlib.animation as animation\n",
    "\n",
    "def f(x):\n",
    "    return (100 / x**2) * math.sin(10 / x)\n",
    "\n",
    "fig = plt.figure()\n",
    "\n",
    "xf = np.linspace(1, 3)\n",
    "yf = [f(x) for x in xf]\n",
    "plt.plot(xf, yf, 'r-', label='f=100 / x**2 * sin(10 / x)')\n",
    "plt.legend()\n",
    "plt.xlim(1, 3)\n",
    "\n",
    "text_pt = plt.text(2.05, 30, '', fontsize=12)\n",
    "\n",
    "adaptsim_points, = plt.plot([1], [f(1)], 'bo', label='adaptsim points')\n",
    "\n",
    "def update_adaptsim(i):\n",
    "    eps = 10 ** (-int(i))\n",
    "    \n",
    "    I, m, p = adaptsim(f, 1, 3, eps=eps)\n",
    "    yp = [f(x) for x in p]\n",
    "    \n",
    "    adaptsim_points.set_data(p, yp)\n",
    "    text_pt.set_text(f\"eps={eps}\\npoints={m}\\nI={I: .10f}\")\n",
    "    \n",
    "    return adaptsim_points,\n",
    "    \n",
    "ani = animation.FuncAnimation(fig, update_adaptsim, np.arange(0, 8), interval=200, blit=True)\n",
    "\n",
    "ani.save('adaptsim.gif', writer='imagemagick', fps=2)\n",
    "# plt.show()"
   ]
  },
  {
   "cell_type": "code",
   "execution_count": 22,
   "metadata": {},
   "outputs": [],
   "source": [
    "def asr(f, a, b, eps=1e-8):\n",
    "    def simpson(f, a, b):\n",
    "        return (b - a) * (f(a) + 4 * f((a + b) / 2) + f(b)) / 6\n",
    "    \n",
    "    def asrp(f, a, b, eps, sim):\n",
    "        mid = (a + b) / 2\n",
    "        L = simpson(f, a, mid)\n",
    "        R = simpson(f, mid, b)\n",
    "\n",
    "        if (abs(L + R - sim) <= eps):\n",
    "            return L + R + (L + R - sim) / 15\n",
    "        \n",
    "        return asrp(f, a, mid, eps/2, L) + asrp(f, mid, b, eps/2, R)\n",
    "    \n",
    "    return asrp(f, a, b, eps, simpson(f, a, b))"
   ]
  },
  {
   "cell_type": "code",
   "execution_count": 23,
   "metadata": {},
   "outputs": [
    {
     "data": {
      "text/plain": [
       "0.7468241328125185"
      ]
     },
     "execution_count": 23,
     "metadata": {},
     "output_type": "execute_result"
    }
   ],
   "source": [
    "asr(lambda x: math.exp(-x ** 2), 0, 1)\n",
    "# actual result (by sympy): sqrt(pi)*erf(1)/2 = 0.746824132812427"
   ]
  },
  {
   "cell_type": "code",
   "execution_count": 24,
   "metadata": {},
   "outputs": [
    {
     "data": {
      "text/plain": [
       "0.9460830703671792"
      ]
     },
     "execution_count": 24,
     "metadata": {},
     "output_type": "execute_result"
    }
   ],
   "source": [
    "asr(lambda x: math.sin(x) / x, 1e-64, 1)\n",
    "# actual result (by sympy): Si(1) = 0.946083070367183"
   ]
  },
  {
   "cell_type": "code",
   "execution_count": 25,
   "metadata": {},
   "outputs": [
    {
     "data": {
      "text/plain": [
       "-1.42602475634631"
      ]
     },
     "execution_count": 25,
     "metadata": {},
     "output_type": "execute_result"
    }
   ],
   "source": [
    "asr(lambda x: (100 / x**2) * math.sin(10 / x), 1, 3)"
   ]
  }
 ],
 "metadata": {
  "file_extension": ".py",
  "kernelspec": {
   "display_name": "Python 3.7.6 64-bit",
   "language": "python",
   "name": "python37664bit8b61c5f9b63a430188c2e600c83aebf6"
  },
  "language_info": {
   "codemirror_mode": {
    "name": "ipython",
    "version": 3
   },
   "file_extension": ".py",
   "mimetype": "text/x-python",
   "name": "python",
   "nbconvert_exporter": "python",
   "pygments_lexer": "ipython3",
   "version": "3.7.6"
  },
  "mimetype": "text/x-python",
  "name": "python",
  "npconvert_exporter": "python",
  "pygments_lexer": "ipython3",
  "version": 3
 },
 "nbformat": 4,
 "nbformat_minor": 4
}
