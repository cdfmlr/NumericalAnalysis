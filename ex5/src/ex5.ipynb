{
 "cells": [
  {
   "cell_type": "code",
   "execution_count": 1,
   "metadata": {},
   "outputs": [],
   "source": [
    "def improved_euler(f, a, b, h, y0):\n",
    "    \"\"\"改进欧拉法\n",
    "\n",
    "    用**改进欧拉法**求如下常微分方程初值问题的数值解:\n",
    "\n",
    "        y'(x) = f(x, y)  (a <= x <= b)\n",
    "        y(a) = y_0\n",
    "\n",
    "    This function returns a generator that does lazy calculations，\n",
    "    which generates solutions (x, y) of the equation for x from a to b by step h.\n",
    "\n",
    "    Args:\n",
    "\n",
    "        f: 二元函数，y'(x) = f(x, y)\n",
    "        a, b: float, x 的区间\n",
    "        h: float , x 迭代步：x_0 = a，x_1 = x_0 + h, x_2 = x_1 + h, ..., x_n = x_{n-1} + h = b\n",
    "        y0: float, 初值 y(a)\n",
    "\n",
    "    Yields:\n",
    "\n",
    "        (x, y)：方程的解 for x from a to b, step h.\n",
    " \n",
    "    Raises:\n",
    "\n",
    "        ValueError: (b < a) or (h <= 0)\n",
    "    \"\"\"\n",
    "    if b < a:\n",
    "        raise ValueError(\"unexpected range [a, b] where b < a\")\n",
    "    if h <= 0:\n",
    "        raise ValueError(\"unexpected step h <= 0\")\n",
    "    \n",
    "    x = a\n",
    "    y = y0\n",
    "\n",
    "    while x <= b or abs(b - x) < 1e-14:    # x <= b\n",
    "        yield (x, y)\n",
    "\n",
    "        y_next_g = y + h * f(x, y)\n",
    "        y_next = y + h * ( f(x, y) + f(x+h, y_next_g) ) / 2\n",
    "        \n",
    "        x = x + h\n",
    "        y = y_next"
   ]
  },
  {
   "cell_type": "code",
   "execution_count": 2,
   "metadata": {},
   "outputs": [
    {
     "name": "stdout",
     "output_type": "stream",
     "text": [
      "0\t0.5\n",
      "0.1\t0.657\n",
      "0.2\t0.828435\n",
      "0.30000000000000004\t1.013720675\n",
      "0.4\t1.2122113458750001\n",
      "0.5\t1.4231935371918751\n"
     ]
    }
   ],
   "source": [
    "rs = improved_euler(lambda x, y: y - x**2 + 1, a=0, b=0.5, h=0.1, y0=0.5)\n",
    "for r in rs:\n",
    "    print(r[0],r[1], sep='\\t')"
   ]
  },
  {
   "cell_type": "code",
   "execution_count": 3,
   "metadata": {},
   "outputs": [],
   "source": [
    "def runge_kutta(f, a, b, h, y0):\n",
    "    \"\"\"四阶龙格-库塔法的算法: (generally referred to as RK4)\n",
    "\n",
    "    用经典**四阶龙格-库塔算法**求如下常微分方程初值问题的数值解:\n",
    "\n",
    "        y'(x) = f(x, y)  (for a <= x <= b)\n",
    "        y(a) = y_0\n",
    "\n",
    "    This function returns a generator that does lazy calculations，\n",
    "    which generates solutions (x, y) of the equation for x from a to b by step h.\n",
    "\n",
    "    Args:\n",
    "\n",
    "        f: 二元函数，y'(x) = f(x, y)\n",
    "        a, b: float, x 的区间\n",
    "        h: float , x 迭代步：x_0 = a，x_1 = x_0 + h, x_2 = x_1 + h, ..., x_n = x_{n-1} + h = b\n",
    "        y0: float, 初值 y(a)\n",
    "\n",
    "    Yields:\n",
    "\n",
    "        (x, y)：方程的解 for x from a to b, step h.\n",
    " \n",
    "    Raises:\n",
    "\n",
    "        ValueError: (b < a) or (h <= 0)\n",
    "    \"\"\"\n",
    "    if b < a:\n",
    "        raise ValueError(\"unexpected range [a, b] where b < a\")\n",
    "    if h <= 0:\n",
    "        raise ValueError(\"unexpected step h <= 0\")\n",
    "    \n",
    "    x = a\n",
    "    y = y0\n",
    "\n",
    "    while x <= b or abs(b - x) < 1e-14:    # x <= b\n",
    "        yield (x, y)\n",
    "\n",
    "        k1 = f(x, y)\n",
    "        k2 = f(x + h / 2, y + h * k1 / 2)\n",
    "        k3 = f(x + h / 2, y + h * k2 / 2)\n",
    "        k4 = f(x + h, y + h * k3)\n",
    "        \n",
    "        x = x + h\n",
    "        y = y + h * (k1 + 2 * k2 + 2 * k3 + k4) / 6"
   ]
  },
  {
   "cell_type": "code",
   "execution_count": 4,
   "metadata": {},
   "outputs": [
    {
     "name": "stdout",
     "output_type": "stream",
     "text": [
      "0\t0.5\n",
      "0.1\t0.657414375\n",
      "0.2\t0.8292982759973958\n",
      "0.30000000000000004\t1.0150700584326051\n",
      "0.4\t1.2140869057030108\n",
      "0.5\t1.425638395648218\n"
     ]
    }
   ],
   "source": [
    "rs = runge_kutta(lambda x, y: y - x**2 + 1, a=0, b=0.5, h=0.1, y0=0.5)\n",
    "for r in rs:\n",
    "    print(r[0],r[1], sep='\\t')"
   ]
  },
  {
   "cell_type": "code",
   "execution_count": 5,
   "metadata": {},
   "outputs": [],
   "source": [
    "def runge_kutta_fehlberg(f, a, b, h_min, h_max, y0, eps):\n",
    "    \"\"\"Runge-Kutta-Fehlberg 方法（RKF）\n",
    "\n",
    "    用 **Runge-Kutta-Fehlberg 方法**求如下常微分方程初值问题的数值解:\n",
    "\n",
    "        y'(x) = f(x, y)  (for a <= x <= b)\n",
    "        y(a) = y_0\n",
    "\n",
    "    This function returns a generator that does lazy calculations，\n",
    "    which generates solutions (x, y) of the equation for x from a to b by step h.\n",
    "\n",
    "    Args:\n",
    "\n",
    "        f: 二元函数，y'(x) = f(x, y)\n",
    "        a, b: float, x 的区间端点\n",
    "        h_min: float, 最小步长\n",
    "        h_max: float, 最大步长\n",
    "        y0: float, 初值 y(a)\n",
    "        eps: float >= 0，容许误差\n",
    "\n",
    "    Yields:\n",
    "\n",
    "        (x, y)：方程的解 for x from a to b, step h.\n",
    " \n",
    "    Raises:\n",
    "\n",
    "        ValueError: (b > a) or (h_max < h_min) or (eps < 0)\n",
    "        GeneratorExit: h_min too small. Failed to continue.\n",
    "\n",
    "    \"\"\"\n",
    "    if b < a:\n",
    "        raise ValueError(\"unexpected range [a, b] where b < a\")\n",
    "    if h_max < h_min:\n",
    "        raise ValueError(\"unexpected step h_max < h_min \")\n",
    "    if eps < 0:\n",
    "        raise ValueError(\"unexpected eps < 0\")\n",
    "\n",
    "    h = h_max\n",
    "\n",
    "    x = a\n",
    "    y = y0\n",
    "\n",
    "    yield (x, y)\n",
    "\n",
    "    while x <= b:\n",
    "        k1 = h * f(x, y)\n",
    "        k2 = h * f(x + h / 4, y + k1 / 4)\n",
    "        k3 = h * f(x + 3 * h / 8, y + 3 * k1 / 32 + 9 * k2/ 32)\n",
    "        k4 = h * f(x + 12 * h / 13, y + 1932 / 2197 * k1 - 7200 / 2197 * k2  + 7296 / 2197 * k3 )\n",
    "        k5 = h * f(x + h, y + 439 / 216 * k1 - 8 * k2 + 3680 / 513 * k3 - 845 / 4104 * k4)\n",
    "        k6 = h * f(x + h / 2, y - 8 / 27 * k1 + 2 * k2 - 3544 / 2565 * k3 + 1859 / 4104 * k4 - 11 / 40 * k5)\n",
    "\n",
    "        R = abs(k1 / 360 - 128 / 4275 * k3 - 2197 / 75240 * k4 + k5 / 50 + 2 / 55 * k6)\n",
    "\n",
    "        if R <= h * eps:\n",
    "            x = x + h\n",
    "            y = y + k1 * 25 / 216 + 1408 / 2565 * k3 + 2197 / 4104 * k4 - k5 / 5\n",
    "            yield (x, y)\n",
    "\n",
    "        delta = 0.84 * (eps * h / R) ** (1/4)\n",
    "\n",
    "        if delta <= 0.1:\n",
    "            h = 0.1 * h\n",
    "        elif delta >= 4:\n",
    "            h = 4 * h\n",
    "        else:\n",
    "            h = delta * h\n",
    "\n",
    "        if h > h_max:\n",
    "            h = h_max\n",
    "\n",
    "        if abs(x - b) < eps:\n",
    "            break\n",
    "        \n",
    "        if x + h > b:\n",
    "            h = b - x\n",
    "\n",
    "        if h < h_min:\n",
    "            raise GeneratorExit(\"h_min too small. Failed to continue.\")"
   ]
  },
  {
   "cell_type": "code",
   "execution_count": 6,
   "metadata": {},
   "outputs": [
    {
     "name": "stdout",
     "output_type": "stream",
     "text": [
      "0\t0.5\n",
      "0.13654362227564565\t0.7185790374592727\n",
      "0.26801219081330985\t0.954173517401745\n",
      "0.4012266303587918\t1.2166084183124863\n",
      "0.5366174380061863\t1.5060873731856972\n",
      "0.6747628968898941\t1.823047493996752\n",
      "0.8164946373311293\t2.1683758740655024\n",
      "0.9630852685641695\t2.5438210903808947\n",
      "1.116667783480386\t2.952954119903974\n",
      "1.2813817240537375\t3.4038972431729375\n",
      "1.467877999563017\t3.9204151719053937\n",
      "1.662648091115601\t4.453068120471034\n",
      "1.8154680775168273\t4.854886481689374\n",
      "1.967706858383927\t5.230159855113913\n",
      "2.0\t5.30547384382613\n"
     ]
    }
   ],
   "source": [
    "rs = runge_kutta_fehlberg(lambda x, y: y - x**2 + 1, a=0, b=2, h_min=0.01, h_max=0.5, y0=0.5, eps=1e-6)\n",
    "for r in rs:\n",
    "    print(r[0],r[1], sep='\\t')"
   ]
  },
  {
   "cell_type": "markdown",
   "metadata": {},
   "source": [
    "## 题目\n",
    "\n",
    "解题的类："
   ]
  },
  {
   "cell_type": "code",
   "execution_count": 7,
   "metadata": {},
   "outputs": [],
   "source": [
    "import matplotlib.pyplot as plt\n",
    "\n",
    "class Question(object):\n",
    "    def __init__(self, f, a, b, h, y0, h_min, h_max, eps, actual_solution):\n",
    "        super().__init__()\n",
    "\n",
    "        self.f = f\n",
    "        self.a = a\n",
    "        self.b = b\n",
    "        self.h = h\n",
    "        self.actual_solution = actual_solution\n",
    "\n",
    "        self.args_rk = [f, a, b, h, y0]\n",
    "        self.args_rkf = [f, a, b, h_min, h_max, y0, eps]\n",
    "\n",
    "        self.results = {}\n",
    "\n",
    "    def __do_rk(self, method):\n",
    "        # print(method.__name__, '\\n' + '-' * 25)\n",
    "\n",
    "        rs = method(*self.args_rk)\n",
    "\n",
    "        self.results[method.__name__] = list(rs)\n",
    "        for r in self.results[method.__name__]:\n",
    "            print(r[0],r[1], sep='\\t')\n",
    "\n",
    "    def __do_rkf(self, method):\n",
    "        # print(method.__name__, '\\n' + '-' * 25)\n",
    "\n",
    "        rs = method(*self.args_rkf)\n",
    "\n",
    "        self.results[method.__name__] = list(rs)\n",
    "        for r in self.results[method.__name__]:\n",
    "            print(r[0],r[1], sep='\\t')\n",
    "\n",
    "    def __plot(self):\n",
    "        # 真解\n",
    "        xs = [self.a + k * (self.b - self.a) / 100 for k in range(101)]\n",
    "        ys = [actual_solution(x) for x in xs]\n",
    "        plt.plot(xs, ys, 'r-', linewidth=3, label='actual_solution')\n",
    "\n",
    "        # 各种数值解\n",
    "        styles = (s for s in ['bo-', 'ys-', 'g^-'])\n",
    "        for k in self.results:\n",
    "            xs, ys = list(zip(*self.results[k]))\n",
    "            plt.plot(xs, ys, next(styles), label=k)\n",
    "\n",
    "        plt.legend()\n",
    "\n",
    "    def solve(self):\n",
    "        print('\\nImproved Euler：')\n",
    "        self.__do_rk(improved_euler)\n",
    "        print('\\nRK4：')\n",
    "        self.__do_rk(runge_kutta)\n",
    "        print('\\nRKF：')\n",
    "        self.__do_rkf(runge_kutta_fehlberg)\n",
    "        \n",
    "        # 绘制整体\n",
    "        self.__plot()\n",
    "        plt.show()\n",
    "\n",
    "        # 绘制一个局部\n",
    "        self.__plot()\n",
    "        plt.xlim(self.b - self.h, self.b)\n",
    "        y1, y2 = self.actual_solution(self.b - self.h), self.actual_solution(self.b)\n",
    "        plt.ylim(min(y1, y2), max(y1, y2))\n",
    "        plt.legend()\n",
    "        plt.show()"
   ]
  },
  {
   "cell_type": "markdown",
   "metadata": {},
   "source": [
    "1. a).\n",
    "\n",
    "$$\n",
    "\\begin{cases}\n",
    "\\frac{dy}{dx}=y^2\\\\\n",
    "y(0) = 1\n",
    "\\end{cases}\n",
    "\\quad 0.1\\le x \\le 0.4\n",
    "\\quad h=0.1\n",
    "$$"
   ]
  },
  {
   "cell_type": "code",
   "execution_count": 8,
   "metadata": {},
   "outputs": [
    {
     "name": "stdout",
     "output_type": "stream",
     "text": [
      "\n",
      "Improved Euler：\n",
      "0\t1\n",
      "0.1\t1.1105\n",
      "0.2\t1.2482762285866027\n",
      "0.30000000000000004\t1.4247601260213614\n",
      "0.4\t1.6587363946557603\n",
      "\n",
      "RK4：\n",
      "0\t1\n",
      "0.1\t1.1111104900521944\n",
      "0.2\t1.2499979920470152\n",
      "0.30000000000000004\t1.4285661863014445\n",
      "0.4\t1.6666532572503225\n",
      "\n",
      "RKF：\n",
      "0\t1\n",
      "0.025039979795246234\t1.0256830838146338\n",
      "0.05023788001716733\t1.052895224207251\n",
      "0.07449021044767089\t1.080485600141923\n",
      "0.09781031904296066\t1.1084143630136087\n",
      "0.12024490661926406\t1.1366799785401573\n",
      "0.1418387901059162\t1.1652822211726135\n",
      "0.16263399033424697\t1.194220913397017\n",
      "0.1826699094328344\t1.2234958832046705\n",
      "0.20198352501286038\t1.253106962683577\n",
      "0.22060956834055725\t1.2830539876206315\n",
      "0.23858068763984974\t1.3133367976484365\n",
      "0.2559275973202766\t1.3439552358985725\n",
      "0.27267921507337145\t1.3749091491644632\n",
      "0.2888627873258841\t1.4061983873896555\n",
      "0.3045040049273295\t1.4378228039555951\n",
      "0.31962710915217313\t1.4697822551801247\n",
      "0.33425498973396817\t1.5020766007259563\n",
      "0.3484092747167351\t1.5347057029264364\n",
      "0.3621104137928546\t1.5676694270969493\n",
      "0.37537775507854887\t1.6009676414571847\n",
      "0.38822961593386085\t1.634600216668164\n",
      "0.4\t1.6666666707061184\n"
     ]
    },
    {
     "data": {
      "image/png": "[encoded data removed]",
      "text/plain": [
       "<Figure size 432x288 with 1 Axes>"
      ]
     },
     "metadata": {
      "needs_background": "light"
     },
     "output_type": "display_data"
    },
    {
     "data": {
      "image/png": "[encoded data removed]",
      "text/plain": [
       "<Figure size 432x288 with 1 Axes>"
      ]
     },
     "metadata": {
      "needs_background": "light"
     },
     "output_type": "display_data"
    }
   ],
   "source": [
    "def f(x, y):\n",
    "    return y ** 2\n",
    "\n",
    "a, b = 0, 0.4\n",
    "h = 0.1\n",
    "y0 = 1\n",
    "h_min=0.001\n",
    "h_max=0.5\n",
    "eps=1e-8\n",
    "\n",
    "def actual_solution(x):\n",
    "    return 1 / (1 - x)\n",
    "\n",
    "#  def __init__(self, f, a, b, h, y0, h_min, h_max, eps, actual_solution):\n",
    "q1 = Question(f, a, b, h, y0, h_min, h_max, eps, actual_solution)\n",
    "q1.solve()"
   ]
  },
  {
   "cell_type": "markdown",
   "metadata": {},
   "source": [
    "1. b)\n",
    "\n",
    "$$\n",
    "\\begin{cases}\n",
    "\\frac{dy}{dx}=x/y\\\\\n",
    "y(2.0) = 1\n",
    "\\end{cases}\n",
    "\\quad 2.0\\le x \\le 2.6\n",
    "\\quad h=0.1\n",
    "$$"
   ]
  },
  {
   "cell_type": "code",
   "execution_count": 9,
   "metadata": {},
   "outputs": [
    {
     "name": "stdout",
     "output_type": "stream",
     "text": [
      "\n",
      "Improved Euler：\n",
      "2.0\t1\n",
      "2.1\t1.1875\n",
      "2.2\t1.3565459923557568\n",
      "2.3000000000000003\t1.5133558178802287\n",
      "2.4000000000000004\t1.6614034116615422\n",
      "2.5000000000000004\t1.802850617838112\n",
      "2.6000000000000005\t1.9391431095639506\n",
      "\n",
      "RK4：\n",
      "2.0\t1\n",
      "2.1\t1.1874362471788942\n",
      "2.2\t1.3564683099780293\n",
      "2.3000000000000003\t1.513276851413264\n",
      "2.4000000000000004\t1.6613269035807452\n",
      "2.5000000000000004\t1.8027776370912958\n",
      "2.6000000000000005\t1.9390738201189597\n",
      "\n",
      "RKF：\n",
      "2.0\t1\n",
      "2.0211724308032437\t1.0416995703232401\n",
      "2.0415542156639184\t1.080714400351875\n",
      "2.063772665098076\t1.1221219241586564\n",
      "2.0878610104513116\t1.16583171952646\n",
      "2.1140161190991194\t1.212049566189454\n",
      "2.142450034889673\t1.2609885609556355\n",
      "2.173401878648306\t1.3128883138785854\n",
      "2.2071414713667057\t1.3680180820976793\n",
      "2.243974231145123\t1.4266815860724658\n",
      "2.2842469848065763\t1.4892227117613641\n",
      "2.3283549439053477\t1.5560323717778588\n",
      "2.3767501221468326\t1.6275568008106627\n",
      "2.429951552025518\t1.7043076428256803\n",
      "2.488557762018454\t1.7868742906237765\n",
      "2.553262116784645\t1.875939080006759\n",
      "2.6\t1.9390719416220605\n"
     ]
    },
    {
     "data": {
      "image/png": "[encoded data removed]",
      "text/plain": [
       "<Figure size 432x288 with 1 Axes>"
      ]
     },
     "metadata": {
      "needs_background": "light"
     },
     "output_type": "display_data"
    },
    {
     "data": {
      "image/png": "[encoded data removed]",
      "text/plain": [
       "<Figure size 432x288 with 1 Axes>"
      ]
     },
     "metadata": {
      "needs_background": "light"
     },
     "output_type": "display_data"
    }
   ],
   "source": [
    "def f(x, y):\n",
    "    return x / y\n",
    "\n",
    "a, b = 2.0, 2.6\n",
    "h = 0.1\n",
    "y0 = 1\n",
    "h_min=0.001\n",
    "h_max=0.5\n",
    "eps=1e-8\n",
    "\n",
    "def actual_solution(x):\n",
    "    return (x**2 - 3) ** (1/2)\n",
    "\n",
    "#  def __init__(self, f, a, b, h, y0, h_min, h_max, eps, actual_solution):\n",
    "q2 = Question(f, a, b, h, y0, h_min, h_max, eps, actual_solution)\n",
    "q2.solve()"
   ]
  },
  {
   "cell_type": "markdown",
   "metadata": {},
   "source": [
    "$$\n",
    "\\int_0^1\\frac{sin t}{t} dt\n",
    "$$\n",
    "\n",
    "转化为：\n",
    "\n",
    "$$\n",
    "\\begin{cases}\n",
    "y'(x)=\\frac{\\sin x}{x}\\\\\n",
    "y(0) = 0\\\\\n",
    "\\end{cases}\n",
    "\\quad 0 \\le x \\le 1\n",
    "$$"
   ]
  },
  {
   "cell_type": "code",
   "execution_count": 10,
   "metadata": {},
   "outputs": [
    {
     "name": "stdout",
     "output_type": "stream",
     "text": [
      "By RK4: 0.946083076517732\n",
      "Actual: Si(1)=0.946083070367183\n"
     ]
    },
    {
     "data": {
      "text/latex": [
       "$\\displaystyle \\text{True}$"
      ],
      "text/plain": [
       "True"
      ]
     },
     "execution_count": 10,
     "metadata": {},
     "output_type": "execute_result"
    }
   ],
   "source": [
    "import math\n",
    "import sympy as sp\n",
    "\n",
    "def f(x, y):\n",
    "    return math.sin(x) / x\n",
    "\n",
    "a, b = 1e-64, 1\n",
    "h = 0.1\n",
    "y0 = 1e-64\n",
    "\n",
    "# 用 RK4 求解\n",
    "rs = runge_kutta(f, a, b, h, y0)\n",
    "I = list(rs)[-1][-1]\n",
    "print(\"By RK4:\", I)\n",
    "\n",
    "# 用 sympy 求解析解\n",
    "x = sp.Symbol('x')\n",
    "actual = sp.integrate(sp.sin(x) / x, (x, 0, 1))\n",
    "print(f\"Actual: {actual}={float(actual)}\")\n",
    "\n",
    "abs(actual - I) < 1e-6"
   ]
  },
  {
   "cell_type": "markdown",
   "metadata": {},
   "source": [
    "改进 RKF：使用数组储存各种常数："
   ]
  },
  {
   "cell_type": "code",
   "execution_count": 11,
   "metadata": {},
   "outputs": [],
   "source": [
    "def rkf(f, a, b, h_min, h_max, y0, eps):\n",
    "    \"\"\"Runge-Kutta-Fehlberg 方法（RKF）\n",
    "\n",
    "    用 **Runge-Kutta-Fehlberg 方法**求如下常微分方程初值问题的数值解:\n",
    "\n",
    "        y'(x) = f(x, y)  (for a <= x <= b)\n",
    "        y(a) = y_0\n",
    "\n",
    "    This function returns a generator that does lazy calculations，\n",
    "    which generates solutions (x, y) of the equation for x from a to b by step h.\n",
    "\n",
    "    Args:\n",
    "\n",
    "        f: 二元函数，y'(x) = f(x, y)\n",
    "        a, b: float, x 的区间端点\n",
    "        h_min: float, 最小步长\n",
    "        h_max: float, 最大步长\n",
    "        y0: float, 初值 y(a)\n",
    "        eps: float >= 0，容许误差\n",
    "\n",
    "    Yields:\n",
    "\n",
    "        (x, y)：方程的解 for x from a to b, step h.\n",
    " \n",
    "    Raises:\n",
    "\n",
    "        ValueError: (b > a) or (h_max < h_min) or (eps < 0)\n",
    "        GeneratorExit: h_min too small. Failed to continue.\n",
    "\n",
    "    \"\"\"\n",
    "    if b < a:\n",
    "        raise ValueError(\"unexpected range [a, b] where b < a\")\n",
    "    if h_max < h_min:\n",
    "        raise ValueError(\"unexpected step h_max < h_min \")\n",
    "    if eps < 0:\n",
    "        raise ValueError(\"unexpected eps < 0\")\n",
    "\n",
    "    h = h_max\n",
    "\n",
    "    x = a\n",
    "    y = y0\n",
    "\n",
    "    CH = [0, 1 / 4, 3 / 8, 12 / 13, 1, 1 / 2]\n",
    "    CK = [[], \n",
    "          [1 / 4], \n",
    "          [3 / 32, 9 / 32], \n",
    "          [1932 / 2197, - 7200 / 2197, 7296 / 2197], \n",
    "          [439 / 216, -8, 3680 / 513, - 845 / 4104], \n",
    "          [- 8 / 27, 2, - 3544 / 2565, 1859 / 4104, - 11 / 40]]\n",
    "    CR = [1 / 360, 0, - 128 / 4275, - 2197 / 75240, 1 / 50, 2 / 55]\n",
    "    CY = [25 / 216, 0, 1408 / 2565, 2197 / 4104, - 1/5, 0]\n",
    "\n",
    "    yield (x, y)\n",
    "\n",
    "    while x <= b:\n",
    "        k = [0] * 6\n",
    "        for i in range(6):\n",
    "            k[i] = h * f(x + CH[i] * h, y + sum( (CK[i][j] * k[j] for j in range(i)) ))\n",
    "\n",
    "        R = abs(sum(CR[j] * k[j] for j in range(6)))\n",
    "\n",
    "        if R <= h * eps:\n",
    "            x = x + h\n",
    "            y = y + sum((CY[j] * k[j] for j in range(6)))\n",
    "            yield (x, y)\n",
    "\n",
    "        delta = 0.84 * (eps * h / R) ** (1/4)\n",
    "\n",
    "        if delta <= 0.1:\n",
    "            h = 0.1 * h\n",
    "        elif delta >= 4:\n",
    "            h = 4 * h\n",
    "        else:\n",
    "            h = delta * h\n",
    "\n",
    "        if h > h_max:\n",
    "            h = h_max\n",
    "\n",
    "        if abs(x - b) < eps:\n",
    "            break\n",
    "        \n",
    "        if x + h > b:\n",
    "            h = b - x\n",
    "\n",
    "        if h < h_min:\n",
    "            raise GeneratorExit(\"h_min too small. Failed to continue.\")"
   ]
  },
  {
   "cell_type": "code",
   "execution_count": 12,
   "metadata": {},
   "outputs": [
    {
     "name": "stdout",
     "output_type": "stream",
     "text": [
      "0\t0.5\tTrue\n",
      "0.13654362227564565\t0.7185790374592727\tTrue\n",
      "0.26801219081330985\t0.9541735174017452\tTrue\n",
      "0.4012266303587918\t1.2166084183124863\tTrue\n",
      "0.5366174380042972\t1.5060873731815065\tTrue\n",
      "0.6747628968884856\t1.8230474939934167\tTrue\n",
      "0.8164946373323174\t2.168375874068474\tTrue\n",
      "0.9630852685666529\t2.5438210903873912\tTrue\n",
      "1.116667783483466\t2.9529541199123077\tTrue\n",
      "1.2813817240613252\t3.403897243193893\tTrue\n",
      "1.467877999576984\t3.920415171944022\tTrue\n",
      "1.6626480911242003\t4.453068120494154\tTrue\n",
      "1.8154680775243754\t4.8548864817086885\tTrue\n",
      "1.9677068583935844\t5.230159855136686\tTrue\n",
      "2.0\t5.30547384382613\tTrue\n"
     ]
    }
   ],
   "source": [
    "rs =rkf(lambda x, y: y - x**2 + 1, a=0, b=2, h_min=0.01, h_max=0.5, y0=0.5, eps=1e-6)\n",
    "\n",
    "rs_old = runge_kutta_fehlberg(lambda x, y: y - x**2 + 1, a=0, b=2, h_min=0.01, h_max=0.5, y0=0.5, eps=1e-6)\n",
    "\n",
    "for r in rs:\n",
    "    ro = next(rs_old)\n",
    "    sim = abs(r[0] - ro[0] + r[1] - ro[1]) < 1e-6\n",
    "    print(r[0],r[1], sim, sep='\\t')"
   ]
  },
  {
   "cell_type": "code",
   "execution_count": null,
   "metadata": {},
   "outputs": [],
   "source": []
  }
 ],
 "metadata": {
  "file_extension": ".py",
  "kernelspec": {
   "display_name": "Python 3.7.6 64-bit",
   "language": "python",
   "name": "python37664bit8b61c5f9b63a430188c2e600c83aebf6"
  },
  "language_info": {
   "codemirror_mode": {
    "name": "ipython",
    "version": 3
   },
   "file_extension": ".py",
   "mimetype": "text/x-python",
   "name": "python",
   "nbconvert_exporter": "python",
   "pygments_lexer": "ipython3",
   "version": "3.7.6"
  },
  "mimetype": "text/x-python",
  "name": "python",
  "npconvert_exporter": "python",
  "pygments_lexer": "ipython3",
  "version": 3
 },
 "nbformat": 4,
 "nbformat_minor": 4
}
